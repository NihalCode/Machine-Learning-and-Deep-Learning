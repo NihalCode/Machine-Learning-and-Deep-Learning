{
 "cells": [
  {
   "cell_type": "markdown",
   "id": "b05445b3",
   "metadata": {},
   "source": [
    "**KMeans Clustering**"
   ]
  },
  {
   "cell_type": "code",
   "execution_count": 71,
   "id": "24d64c15",
   "metadata": {},
   "outputs": [
    {
     "data": {
      "text/html": [
       "<div>\n",
       "<style scoped>\n",
       "    .dataframe tbody tr th:only-of-type {\n",
       "        vertical-align: middle;\n",
       "    }\n",
       "\n",
       "    .dataframe tbody tr th {\n",
       "        vertical-align: top;\n",
       "    }\n",
       "\n",
       "    .dataframe thead th {\n",
       "        text-align: right;\n",
       "    }\n",
       "</style>\n",
       "<table border=\"1\" class=\"dataframe\">\n",
       "  <thead>\n",
       "    <tr style=\"text-align: right;\">\n",
       "      <th></th>\n",
       "      <th>rownames</th>\n",
       "      <th>Murder</th>\n",
       "      <th>Assault</th>\n",
       "      <th>UrbanPop</th>\n",
       "      <th>Rape</th>\n",
       "    </tr>\n",
       "  </thead>\n",
       "  <tbody>\n",
       "    <tr>\n",
       "      <th>0</th>\n",
       "      <td>Alabama</td>\n",
       "      <td>13.2</td>\n",
       "      <td>236</td>\n",
       "      <td>58</td>\n",
       "      <td>21.2</td>\n",
       "    </tr>\n",
       "    <tr>\n",
       "      <th>1</th>\n",
       "      <td>Alaska</td>\n",
       "      <td>10.0</td>\n",
       "      <td>263</td>\n",
       "      <td>48</td>\n",
       "      <td>44.5</td>\n",
       "    </tr>\n",
       "    <tr>\n",
       "      <th>2</th>\n",
       "      <td>Arizona</td>\n",
       "      <td>8.1</td>\n",
       "      <td>294</td>\n",
       "      <td>80</td>\n",
       "      <td>31.0</td>\n",
       "    </tr>\n",
       "    <tr>\n",
       "      <th>3</th>\n",
       "      <td>Arkansas</td>\n",
       "      <td>8.8</td>\n",
       "      <td>190</td>\n",
       "      <td>50</td>\n",
       "      <td>19.5</td>\n",
       "    </tr>\n",
       "    <tr>\n",
       "      <th>4</th>\n",
       "      <td>California</td>\n",
       "      <td>9.0</td>\n",
       "      <td>276</td>\n",
       "      <td>91</td>\n",
       "      <td>40.6</td>\n",
       "    </tr>\n",
       "  </tbody>\n",
       "</table>\n",
       "</div>"
      ],
      "text/plain": [
       "     rownames  Murder  Assault  UrbanPop  Rape\n",
       "0     Alabama    13.2      236        58  21.2\n",
       "1      Alaska    10.0      263        48  44.5\n",
       "2     Arizona     8.1      294        80  31.0\n",
       "3    Arkansas     8.8      190        50  19.5\n",
       "4  California     9.0      276        91  40.6"
      ]
     },
     "execution_count": 71,
     "metadata": {},
     "output_type": "execute_result"
    }
   ],
   "source": [
    "import pandas as pd\n",
    "import numpy as np\n",
    "import matplotlib.pyplot as plt\n",
    "import seaborn as sns\n",
    "import warnings\n",
    "warnings.filterwarnings(\"ignore\")\n",
    "\n",
    "df = pd.read_csv(\"USArrests.csv\")\n",
    "df.head()"
   ]
  },
  {
   "cell_type": "code",
   "execution_count": 72,
   "id": "bb79c6b0",
   "metadata": {},
   "outputs": [
    {
     "data": {
      "text/html": [
       "<div>\n",
       "<style scoped>\n",
       "    .dataframe tbody tr th:only-of-type {\n",
       "        vertical-align: middle;\n",
       "    }\n",
       "\n",
       "    .dataframe tbody tr th {\n",
       "        vertical-align: top;\n",
       "    }\n",
       "\n",
       "    .dataframe thead th {\n",
       "        text-align: right;\n",
       "    }\n",
       "</style>\n",
       "<table border=\"1\" class=\"dataframe\">\n",
       "  <thead>\n",
       "    <tr style=\"text-align: right;\">\n",
       "      <th></th>\n",
       "      <th>Murder</th>\n",
       "      <th>Assault</th>\n",
       "      <th>UrbanPop</th>\n",
       "      <th>Rape</th>\n",
       "    </tr>\n",
       "    <tr>\n",
       "      <th>rownames</th>\n",
       "      <th></th>\n",
       "      <th></th>\n",
       "      <th></th>\n",
       "      <th></th>\n",
       "    </tr>\n",
       "  </thead>\n",
       "  <tbody>\n",
       "    <tr>\n",
       "      <th>Alabama</th>\n",
       "      <td>13.2</td>\n",
       "      <td>236</td>\n",
       "      <td>58</td>\n",
       "      <td>21.2</td>\n",
       "    </tr>\n",
       "    <tr>\n",
       "      <th>Alaska</th>\n",
       "      <td>10.0</td>\n",
       "      <td>263</td>\n",
       "      <td>48</td>\n",
       "      <td>44.5</td>\n",
       "    </tr>\n",
       "    <tr>\n",
       "      <th>Arizona</th>\n",
       "      <td>8.1</td>\n",
       "      <td>294</td>\n",
       "      <td>80</td>\n",
       "      <td>31.0</td>\n",
       "    </tr>\n",
       "    <tr>\n",
       "      <th>Arkansas</th>\n",
       "      <td>8.8</td>\n",
       "      <td>190</td>\n",
       "      <td>50</td>\n",
       "      <td>19.5</td>\n",
       "    </tr>\n",
       "    <tr>\n",
       "      <th>California</th>\n",
       "      <td>9.0</td>\n",
       "      <td>276</td>\n",
       "      <td>91</td>\n",
       "      <td>40.6</td>\n",
       "    </tr>\n",
       "  </tbody>\n",
       "</table>\n",
       "</div>"
      ],
      "text/plain": [
       "            Murder  Assault  UrbanPop  Rape\n",
       "rownames                                   \n",
       "Alabama       13.2      236        58  21.2\n",
       "Alaska        10.0      263        48  44.5\n",
       "Arizona        8.1      294        80  31.0\n",
       "Arkansas       8.8      190        50  19.5\n",
       "California     9.0      276        91  40.6"
      ]
     },
     "execution_count": 72,
     "metadata": {},
     "output_type": "execute_result"
    }
   ],
   "source": [
    "df = pd.read_csv(\"USArrests.csv\", index_col =0)\n",
    "df.head()\n"
   ]
  },
  {
   "cell_type": "code",
   "execution_count": 73,
   "id": "081266a8",
   "metadata": {},
   "outputs": [
    {
     "name": "stdout",
     "output_type": "stream",
     "text": [
      "<class 'pandas.core.frame.DataFrame'>\n",
      "Index: 50 entries, Alabama to Wyoming\n",
      "Data columns (total 4 columns):\n",
      " #   Column    Non-Null Count  Dtype  \n",
      "---  ------    --------------  -----  \n",
      " 0   Murder    50 non-null     float64\n",
      " 1   Assault   50 non-null     int64  \n",
      " 2   UrbanPop  50 non-null     int64  \n",
      " 3   Rape      50 non-null     float64\n",
      "dtypes: float64(2), int64(2)\n",
      "memory usage: 2.0+ KB\n"
     ]
    }
   ],
   "source": [
    "df.info()"
   ]
  },
  {
   "cell_type": "code",
   "execution_count": 74,
   "id": "affae1d4",
   "metadata": {},
   "outputs": [
    {
     "data": {
      "text/html": [
       "<div>\n",
       "<style scoped>\n",
       "    .dataframe tbody tr th:only-of-type {\n",
       "        vertical-align: middle;\n",
       "    }\n",
       "\n",
       "    .dataframe tbody tr th {\n",
       "        vertical-align: top;\n",
       "    }\n",
       "\n",
       "    .dataframe thead th {\n",
       "        text-align: right;\n",
       "    }\n",
       "</style>\n",
       "<table border=\"1\" class=\"dataframe\">\n",
       "  <thead>\n",
       "    <tr style=\"text-align: right;\">\n",
       "      <th></th>\n",
       "      <th>Murder</th>\n",
       "      <th>Assault</th>\n",
       "      <th>UrbanPop</th>\n",
       "      <th>Rape</th>\n",
       "    </tr>\n",
       "  </thead>\n",
       "  <tbody>\n",
       "    <tr>\n",
       "      <th>count</th>\n",
       "      <td>50.00000</td>\n",
       "      <td>50.000000</td>\n",
       "      <td>50.000000</td>\n",
       "      <td>50.000000</td>\n",
       "    </tr>\n",
       "    <tr>\n",
       "      <th>mean</th>\n",
       "      <td>7.78800</td>\n",
       "      <td>170.760000</td>\n",
       "      <td>65.540000</td>\n",
       "      <td>21.232000</td>\n",
       "    </tr>\n",
       "    <tr>\n",
       "      <th>std</th>\n",
       "      <td>4.35551</td>\n",
       "      <td>83.337661</td>\n",
       "      <td>14.474763</td>\n",
       "      <td>9.366385</td>\n",
       "    </tr>\n",
       "    <tr>\n",
       "      <th>min</th>\n",
       "      <td>0.80000</td>\n",
       "      <td>45.000000</td>\n",
       "      <td>32.000000</td>\n",
       "      <td>7.300000</td>\n",
       "    </tr>\n",
       "    <tr>\n",
       "      <th>25%</th>\n",
       "      <td>4.07500</td>\n",
       "      <td>109.000000</td>\n",
       "      <td>54.500000</td>\n",
       "      <td>15.075000</td>\n",
       "    </tr>\n",
       "    <tr>\n",
       "      <th>50%</th>\n",
       "      <td>7.25000</td>\n",
       "      <td>159.000000</td>\n",
       "      <td>66.000000</td>\n",
       "      <td>20.100000</td>\n",
       "    </tr>\n",
       "    <tr>\n",
       "      <th>75%</th>\n",
       "      <td>11.25000</td>\n",
       "      <td>249.000000</td>\n",
       "      <td>77.750000</td>\n",
       "      <td>26.175000</td>\n",
       "    </tr>\n",
       "    <tr>\n",
       "      <th>max</th>\n",
       "      <td>17.40000</td>\n",
       "      <td>337.000000</td>\n",
       "      <td>91.000000</td>\n",
       "      <td>46.000000</td>\n",
       "    </tr>\n",
       "  </tbody>\n",
       "</table>\n",
       "</div>"
      ],
      "text/plain": [
       "         Murder     Assault   UrbanPop       Rape\n",
       "count  50.00000   50.000000  50.000000  50.000000\n",
       "mean    7.78800  170.760000  65.540000  21.232000\n",
       "std     4.35551   83.337661  14.474763   9.366385\n",
       "min     0.80000   45.000000  32.000000   7.300000\n",
       "25%     4.07500  109.000000  54.500000  15.075000\n",
       "50%     7.25000  159.000000  66.000000  20.100000\n",
       "75%    11.25000  249.000000  77.750000  26.175000\n",
       "max    17.40000  337.000000  91.000000  46.000000"
      ]
     },
     "execution_count": 74,
     "metadata": {},
     "output_type": "execute_result"
    }
   ],
   "source": [
    "df.describe()"
   ]
  },
  {
   "cell_type": "code",
   "execution_count": 75,
   "id": "6b69f43f",
   "metadata": {},
   "outputs": [],
   "source": [
    "import os\n",
    "\n",
    "# Set the environment variable\n",
    "os.environ[\"OMP_NUM_THREADS\"] = \"1\""
   ]
  },
  {
   "cell_type": "code",
   "execution_count": 2,
   "id": "d8b0fca1",
   "metadata": {},
   "outputs": [],
   "source": [
    "from sklearn.cluster import KMeans\n",
    "from sklearn.metrics import silhouette_score"
   ]
  },
  {
   "cell_type": "code",
   "execution_count": 3,
   "id": "2b93f2d6",
   "metadata": {},
   "outputs": [],
   "source": [
    "k_means = KMeans(n_clusters =2, random_state=42)"
   ]
  },
  {
   "cell_type": "code",
   "execution_count": 4,
   "id": "c04b052d",
   "metadata": {},
   "outputs": [
    {
     "ename": "NameError",
     "evalue": "name 'df' is not defined",
     "output_type": "error",
     "traceback": [
      "\u001b[1;31m---------------------------------------------------------------------------\u001b[0m",
      "\u001b[1;31mNameError\u001b[0m                                 Traceback (most recent call last)",
      "Cell \u001b[1;32mIn[4], line 1\u001b[0m\n\u001b[1;32m----> 1\u001b[0m k_means\u001b[38;5;241m.\u001b[39mfit(df)\n",
      "\u001b[1;31mNameError\u001b[0m: name 'df' is not defined"
     ]
    }
   ],
   "source": [
    "k_means.fit(df)"
   ]
  },
  {
   "cell_type": "code",
   "execution_count": 79,
   "id": "a9874a5f",
   "metadata": {},
   "outputs": [],
   "source": [
    "clusters = k_means.labels_"
   ]
  },
  {
   "cell_type": "code",
   "execution_count": 80,
   "id": "1e1e7f64",
   "metadata": {},
   "outputs": [
    {
     "data": {
      "text/plain": [
       "array([1, 1, 1, 1, 1, 1, 0, 1, 1, 1, 0, 0, 1, 0, 0, 0, 0, 1, 0, 1, 0, 1,\n",
       "       0, 1, 0, 0, 0, 1, 0, 0, 1, 1, 1, 0, 0, 0, 0, 0, 0, 1, 0, 1, 1, 0,\n",
       "       0, 0, 0, 0, 0, 0])"
      ]
     },
     "execution_count": 80,
     "metadata": {},
     "output_type": "execute_result"
    }
   ],
   "source": [
    "clusters"
   ]
  },
  {
   "cell_type": "code",
   "execution_count": 81,
   "id": "2b2a59c5",
   "metadata": {},
   "outputs": [
    {
     "data": {
      "text/plain": [
       "<matplotlib.collections.PathCollection at 0x24a0389cd10>"
      ]
     },
     "execution_count": 81,
     "metadata": {},
     "output_type": "execute_result"
    },
    {
     "data": {
      "image/png": "[encoded data removed]",
      "text/plain": [
       "<Figure size 800x550 with 1 Axes>"
      ]
     },
     "metadata": {},
     "output_type": "display_data"
    }
   ],
   "source": [
    "plt.scatter(df.iloc[:,0], df.iloc[:,1], c= clusters, s = 75, cmap =\"viridis\")"
   ]
  },
  {
   "cell_type": "code",
   "execution_count": 82,
   "id": "dc647892",
   "metadata": {},
   "outputs": [],
   "source": [
    "centroids = k_means.cluster_centers_"
   ]
  },
  {
   "cell_type": "code",
   "execution_count": 83,
   "id": "c21102f7",
   "metadata": {},
   "outputs": [
    {
     "data": {
      "text/plain": [
       "array([[  4.84137931, 109.75862069,  64.03448276,  16.24827586],\n",
       "       [ 11.85714286, 255.        ,  67.61904762,  28.11428571]])"
      ]
     },
     "execution_count": 83,
     "metadata": {},
     "output_type": "execute_result"
    }
   ],
   "source": [
    "centroids"
   ]
  },
  {
   "cell_type": "code",
   "execution_count": 84,
   "id": "b99388cc",
   "metadata": {},
   "outputs": [
    {
     "data": {
      "text/plain": [
       "<matplotlib.collections.PathCollection at 0x24a03e00290>"
      ]
     },
     "execution_count": 84,
     "metadata": {},
     "output_type": "execute_result"
    },
    {
     "data": {
      "image/png": "[encoded data removed]",
      "text/plain": [
       "<Figure size 800x550 with 1 Axes>"
      ]
     },
     "metadata": {},
     "output_type": "display_data"
    }
   ],
   "source": [
    "plt.scatter(df.iloc[:,0], df.iloc[:,1], c= clusters, s = 75, cmap =\"viridis\")\n",
    "plt.scatter(centroids[:,0], centroids[:,1], c =\"red\", s = 250, alpha =0.6)"
   ]
  },
  {
   "cell_type": "code",
   "execution_count": 85,
   "id": "be781c49",
   "metadata": {},
   "outputs": [],
   "source": [
    "rate = []\n",
    "\n",
    "K = range(2,10)\n",
    "\n",
    "for i in K:\n",
    "    kmeans = KMeans(n_clusters =i)\n",
    "    kmeans.fit(df)\n",
    "    rate.append(kmeans.inertia_)\n",
    "    "
   ]
  },
  {
   "cell_type": "code",
   "execution_count": 86,
   "id": "dcde2ed3",
   "metadata": {},
   "outputs": [
    {
     "data": {
      "text/plain": [
       "[96399.02814449916,\n",
       " 47964.26535714286,\n",
       " 34728.629357142854,\n",
       " 24495.167543123545,\n",
       " 19111.84463492063,\n",
       " 15714.261305555558,\n",
       " 13285.616920634917,\n",
       " 11151.505119047619]"
      ]
     },
     "execution_count": 86,
     "metadata": {},
     "output_type": "execute_result"
    }
   ],
   "source": [
    "rate"
   ]
  },
  {
   "cell_type": "code",
   "execution_count": 87,
   "id": "754750c6",
   "metadata": {},
   "outputs": [
    {
     "data": {
      "text/plain": [
       "Text(0.5, 1.0, 'Elbow')"
      ]
     },
     "execution_count": 87,
     "metadata": {},
     "output_type": "execute_result"
    },
    {
     "data": {
      "image/png": "[encoded data removed]",
      "text/plain": [
       "<Figure size 800x550 with 1 Axes>"
      ]
     },
     "metadata": {},
     "output_type": "display_data"
    }
   ],
   "source": [
    "plt.plot(K, rate, \"red\")\n",
    "plt.xlabel(\"K\")\n",
    "plt.title(\"Elbow\")"
   ]
  },
  {
   "cell_type": "code",
   "execution_count": 88,
   "id": "c7b4433c",
   "metadata": {},
   "outputs": [
    {
     "name": "stdout",
     "output_type": "stream",
     "text": [
      "Requirement already satisfied: yellowbrick in c:\\users\\nihal\\anaconda3\\lib\\site-packages (1.5)\n",
      "Requirement already satisfied: matplotlib!=3.0.0,>=2.0.2 in c:\\users\\nihal\\anaconda3\\lib\\site-packages (from yellowbrick) (3.7.2)\n",
      "Requirement already satisfied: scipy>=1.0.0 in c:\\users\\nihal\\anaconda3\\lib\\site-packages (from yellowbrick) (1.11.1)\n",
      "Requirement already satisfied: scikit-learn>=1.0.0 in c:\\users\\nihal\\anaconda3\\lib\\site-packages (from yellowbrick) (1.3.0)\n",
      "Requirement already satisfied: numpy>=1.16.0 in c:\\users\\nihal\\anaconda3\\lib\\site-packages (from yellowbrick) (1.24.3)\n",
      "Requirement already satisfied: cycler>=0.10.0 in c:\\users\\nihal\\anaconda3\\lib\\site-packages (from yellowbrick) (0.11.0)\n",
      "Requirement already satisfied: contourpy>=1.0.1 in c:\\users\\nihal\\anaconda3\\lib\\site-packages (from matplotlib!=3.0.0,>=2.0.2->yellowbrick) (1.0.5)\n",
      "Requirement already satisfied: fonttools>=4.22.0 in c:\\users\\nihal\\anaconda3\\lib\\site-packages (from matplotlib!=3.0.0,>=2.0.2->yellowbrick) (4.25.0)\n",
      "Requirement already satisfied: kiwisolver>=1.0.1 in c:\\users\\nihal\\anaconda3\\lib\\site-packages (from matplotlib!=3.0.0,>=2.0.2->yellowbrick) (1.4.4)\n",
      "Requirement already satisfied: packaging>=20.0 in c:\\users\\nihal\\anaconda3\\lib\\site-packages (from matplotlib!=3.0.0,>=2.0.2->yellowbrick) (23.1)\n",
      "Requirement already satisfied: pillow>=6.2.0 in c:\\users\\nihal\\anaconda3\\lib\\site-packages (from matplotlib!=3.0.0,>=2.0.2->yellowbrick) (10.2.0)\n",
      "Requirement already satisfied: pyparsing<3.1,>=2.3.1 in c:\\users\\nihal\\anaconda3\\lib\\site-packages (from matplotlib!=3.0.0,>=2.0.2->yellowbrick) (3.0.9)\n",
      "Requirement already satisfied: python-dateutil>=2.7 in c:\\users\\nihal\\anaconda3\\lib\\site-packages (from matplotlib!=3.0.0,>=2.0.2->yellowbrick) (2.8.2)\n",
      "Requirement already satisfied: joblib>=1.1.1 in c:\\users\\nihal\\anaconda3\\lib\\site-packages (from scikit-learn>=1.0.0->yellowbrick) (1.2.0)\n",
      "Requirement already satisfied: threadpoolctl>=2.0.0 in c:\\users\\nihal\\anaconda3\\lib\\site-packages (from scikit-learn>=1.0.0->yellowbrick) (2.2.0)\n",
      "Requirement already satisfied: six>=1.5 in c:\\users\\nihal\\anaconda3\\lib\\site-packages (from python-dateutil>=2.7->matplotlib!=3.0.0,>=2.0.2->yellowbrick) (1.16.0)\n",
      "Note: you may need to restart the kernel to use updated packages.\n"
     ]
    }
   ],
   "source": [
    "pip install yellowbrick"
   ]
  },
  {
   "cell_type": "code",
   "execution_count": 89,
   "id": "1a38bb2e",
   "metadata": {},
   "outputs": [],
   "source": [
    "from yellowbrick.cluster import KElbowVisualizer"
   ]
  },
  {
   "cell_type": "code",
   "execution_count": 91,
   "id": "50d62f2d",
   "metadata": {},
   "outputs": [
    {
     "data": {
      "image/png": "[encoded data removed]",
      "text/plain": [
       "<Figure size 800x550 with 2 Axes>"
      ]
     },
     "metadata": {},
     "output_type": "display_data"
    },
    {
     "data": {
      "text/plain": [
       "<Axes: title={'center': 'Distortion Score Elbow for KMeans Clustering'}, xlabel='k', ylabel='distortion score'>"
      ]
     },
     "execution_count": 91,
     "metadata": {},
     "output_type": "execute_result"
    }
   ],
   "source": [
    "kmeans_yellowbrick = KMeans() # n_init is for suppressing warning\n",
    "graph = KElbowVisualizer(kmeans_yellowbrick, k =(2,10))\n",
    "graph.fit(df)\n",
    "graph.poof()"
   ]
  },
  {
   "cell_type": "code",
   "execution_count": 92,
   "id": "92ebd3ed",
   "metadata": {},
   "outputs": [
    {
     "data": {
      "text/html": [
       "<style>#sk-container-id-5 {color: black;}#sk-container-id-5 pre{padding: 0;}#sk-container-id-5 div.sk-toggleable {background-color: white;}#sk-container-id-5 label.sk-toggleable__label {cursor: pointer;display: block;width: 100%;margin-bottom: 0;padding: 0.3em;box-sizing: border-box;text-align: center;}#sk-container-id-5 label.sk-toggleable__label-arrow:before {content: \"▸\";float: left;margin-right: 0.25em;color: #696969;}#sk-container-id-5 label.sk-toggleable__label-arrow:hover:before {color: black;}#sk-container-id-5 div.sk-estimator:hover label.sk-toggleable__label-arrow:before {color: black;}#sk-container-id-5 div.sk-toggleable__content {max-height: 0;max-width: 0;overflow: hidden;text-align: left;background-color: #f0f8ff;}#sk-container-id-5 div.sk-toggleable__content pre {margin: 0.2em;color: black;border-radius: 0.25em;background-color: #f0f8ff;}#sk-container-id-5 input.sk-toggleable__control:checked~div.sk-toggleable__content {max-height: 200px;max-width: 100%;overflow: auto;}#sk-container-id-5 input.sk-toggleable__control:checked~label.sk-toggleable__label-arrow:before {content: \"▾\";}#sk-container-id-5 div.sk-estimator input.sk-toggleable__control:checked~label.sk-toggleable__label {background-color: #d4ebff;}#sk-container-id-5 div.sk-label input.sk-toggleable__control:checked~label.sk-toggleable__label {background-color: #d4ebff;}#sk-container-id-5 input.sk-hidden--visually {border: 0;clip: rect(1px 1px 1px 1px);clip: rect(1px, 1px, 1px, 1px);height: 1px;margin: -1px;overflow: hidden;padding: 0;position: absolute;width: 1px;}#sk-container-id-5 div.sk-estimator {font-family: monospace;background-color: #f0f8ff;border: 1px dotted black;border-radius: 0.25em;box-sizing: border-box;margin-bottom: 0.5em;}#sk-container-id-5 div.sk-estimator:hover {background-color: #d4ebff;}#sk-container-id-5 div.sk-parallel-item::after {content: \"\";width: 100%;border-bottom: 1px solid gray;flex-grow: 1;}#sk-container-id-5 div.sk-label:hover label.sk-toggleable__label {background-color: #d4ebff;}#sk-container-id-5 div.sk-serial::before {content: \"\";position: absolute;border-left: 1px solid gray;box-sizing: border-box;top: 0;bottom: 0;left: 50%;z-index: 0;}#sk-container-id-5 div.sk-serial {display: flex;flex-direction: column;align-items: center;background-color: white;padding-right: 0.2em;padding-left: 0.2em;position: relative;}#sk-container-id-5 div.sk-item {position: relative;z-index: 1;}#sk-container-id-5 div.sk-parallel {display: flex;align-items: stretch;justify-content: center;background-color: white;position: relative;}#sk-container-id-5 div.sk-item::before, #sk-container-id-5 div.sk-parallel-item::before {content: \"\";position: absolute;border-left: 1px solid gray;box-sizing: border-box;top: 0;bottom: 0;left: 50%;z-index: -1;}#sk-container-id-5 div.sk-parallel-item {display: flex;flex-direction: column;z-index: 1;position: relative;background-color: white;}#sk-container-id-5 div.sk-parallel-item:first-child::after {align-self: flex-end;width: 50%;}#sk-container-id-5 div.sk-parallel-item:last-child::after {align-self: flex-start;width: 50%;}#sk-container-id-5 div.sk-parallel-item:only-child::after {width: 0;}#sk-container-id-5 div.sk-dashed-wrapped {border: 1px dashed gray;margin: 0 0.4em 0.5em 0.4em;box-sizing: border-box;padding-bottom: 0.4em;background-color: white;}#sk-container-id-5 div.sk-label label {font-family: monospace;font-weight: bold;display: inline-block;line-height: 1.2em;}#sk-container-id-5 div.sk-label-container {text-align: center;}#sk-container-id-5 div.sk-container {/* jupyter's `normalize.less` sets `[hidden] { display: none; }` but bootstrap.min.css set `[hidden] { display: none !important; }` so we also need the `!important` here to be able to override the default hidden behavior on the sphinx rendered scikit-learn.org. See: https://github.com/scikit-learn/scikit-learn/issues/21755 */display: inline-block !important;position: relative;}#sk-container-id-5 div.sk-text-repr-fallback {display: none;}</style><div id=\"sk-container-id-5\" class=\"sk-top-container\"><div class=\"sk-text-repr-fallback\"><pre>KMeans(n_clusters=4, random_state=42)</pre><b>In a Jupyter environment, please rerun this cell to show the HTML representation or trust the notebook. <br />On GitHub, the HTML representation is unable to render, please try loading this page with nbviewer.org.</b></div><div class=\"sk-container\" hidden><div class=\"sk-item\"><div class=\"sk-estimator sk-toggleable\"><input class=\"sk-toggleable__control sk-hidden--visually\" id=\"sk-estimator-id-5\" type=\"checkbox\" checked><label for=\"sk-estimator-id-5\" class=\"sk-toggleable__label sk-toggleable__label-arrow\">KMeans</label><div class=\"sk-toggleable__content\"><pre>KMeans(n_clusters=4, random_state=42)</pre></div></div></div></div></div>"
      ],
      "text/plain": [
       "KMeans(n_clusters=4, random_state=42)"
      ]
     },
     "execution_count": 92,
     "metadata": {},
     "output_type": "execute_result"
    }
   ],
   "source": [
    "new_kmeans = KMeans(n_clusters =4, random_state =42)\n",
    "new_kmeans.fit(df)"
   ]
  },
  {
   "cell_type": "code",
   "execution_count": 93,
   "id": "a3840954",
   "metadata": {},
   "outputs": [],
   "source": [
    "labels = new_kmeans.labels_"
   ]
  },
  {
   "cell_type": "code",
   "execution_count": 94,
   "id": "ef63e793",
   "metadata": {},
   "outputs": [
    {
     "data": {
      "text/plain": [
       "array([1, 1, 1, 2, 1, 2, 3, 1, 1, 2, 0, 3, 1, 3, 0, 3, 3, 1, 0, 1, 2, 1,\n",
       "       0, 1, 2, 3, 3, 1, 0, 2, 1, 1, 1, 0, 3, 2, 2, 3, 2, 1, 0, 2, 2, 3,\n",
       "       0, 2, 2, 0, 0, 2])"
      ]
     },
     "execution_count": 94,
     "metadata": {},
     "output_type": "execute_result"
    }
   ],
   "source": [
    "labels"
   ]
  },
  {
   "cell_type": "code",
   "execution_count": 95,
   "id": "823fb904",
   "metadata": {},
   "outputs": [],
   "source": [
    "df[\"cluster_id\"] = labels"
   ]
  },
  {
   "cell_type": "code",
   "execution_count": 96,
   "id": "e6a16b2e",
   "metadata": {},
   "outputs": [
    {
     "data": {
      "text/html": [
       "<div>\n",
       "<style scoped>\n",
       "    .dataframe tbody tr th:only-of-type {\n",
       "        vertical-align: middle;\n",
       "    }\n",
       "\n",
       "    .dataframe tbody tr th {\n",
       "        vertical-align: top;\n",
       "    }\n",
       "\n",
       "    .dataframe thead th {\n",
       "        text-align: right;\n",
       "    }\n",
       "</style>\n",
       "<table border=\"1\" class=\"dataframe\">\n",
       "  <thead>\n",
       "    <tr style=\"text-align: right;\">\n",
       "      <th></th>\n",
       "      <th>Murder</th>\n",
       "      <th>Assault</th>\n",
       "      <th>UrbanPop</th>\n",
       "      <th>Rape</th>\n",
       "      <th>cluster_id</th>\n",
       "    </tr>\n",
       "    <tr>\n",
       "      <th>rownames</th>\n",
       "      <th></th>\n",
       "      <th></th>\n",
       "      <th></th>\n",
       "      <th></th>\n",
       "      <th></th>\n",
       "    </tr>\n",
       "  </thead>\n",
       "  <tbody>\n",
       "    <tr>\n",
       "      <th>Alabama</th>\n",
       "      <td>13.2</td>\n",
       "      <td>236</td>\n",
       "      <td>58</td>\n",
       "      <td>21.2</td>\n",
       "      <td>1</td>\n",
       "    </tr>\n",
       "    <tr>\n",
       "      <th>Alaska</th>\n",
       "      <td>10.0</td>\n",
       "      <td>263</td>\n",
       "      <td>48</td>\n",
       "      <td>44.5</td>\n",
       "      <td>1</td>\n",
       "    </tr>\n",
       "    <tr>\n",
       "      <th>Arizona</th>\n",
       "      <td>8.1</td>\n",
       "      <td>294</td>\n",
       "      <td>80</td>\n",
       "      <td>31.0</td>\n",
       "      <td>1</td>\n",
       "    </tr>\n",
       "    <tr>\n",
       "      <th>Arkansas</th>\n",
       "      <td>8.8</td>\n",
       "      <td>190</td>\n",
       "      <td>50</td>\n",
       "      <td>19.5</td>\n",
       "      <td>2</td>\n",
       "    </tr>\n",
       "    <tr>\n",
       "      <th>California</th>\n",
       "      <td>9.0</td>\n",
       "      <td>276</td>\n",
       "      <td>91</td>\n",
       "      <td>40.6</td>\n",
       "      <td>1</td>\n",
       "    </tr>\n",
       "  </tbody>\n",
       "</table>\n",
       "</div>"
      ],
      "text/plain": [
       "            Murder  Assault  UrbanPop  Rape  cluster_id\n",
       "rownames                                               \n",
       "Alabama       13.2      236        58  21.2           1\n",
       "Alaska        10.0      263        48  44.5           1\n",
       "Arizona        8.1      294        80  31.0           1\n",
       "Arkansas       8.8      190        50  19.5           2\n",
       "California     9.0      276        91  40.6           1"
      ]
     },
     "execution_count": 96,
     "metadata": {},
     "output_type": "execute_result"
    }
   ],
   "source": [
    "df.head()"
   ]
  },
  {
   "cell_type": "code",
   "execution_count": 97,
   "id": "e4d9bd64",
   "metadata": {},
   "outputs": [
    {
     "name": "stdout",
     "output_type": "stream",
     "text": [
      "for n=4: 0.5016267918708461\n"
     ]
    }
   ],
   "source": [
    "sil_score = silhouette_score(df, labels)\n",
    "print(f\"for n=4: {sil_score}\")"
   ]
  },
  {
   "cell_type": "code",
   "execution_count": 98,
   "id": "a352a85e",
   "metadata": {},
   "outputs": [
    {
     "data": {
      "text/plain": [
       "<matplotlib.collections.PathCollection at 0x24a045cf2d0>"
      ]
     },
     "execution_count": 98,
     "metadata": {},
     "output_type": "execute_result"
    },
    {
     "data": {
      "image/png": "[encoded data removed]",
      "text/plain": [
       "<Figure size 800x550 with 1 Axes>"
      ]
     },
     "metadata": {},
     "output_type": "display_data"
    }
   ],
   "source": [
    "plt.scatter(df.iloc[:,0], df.iloc[:,1], c= labels, s = 75, cmap =\"viridis\")\n",
    "plt.scatter(new_kmeans.cluster_centers_[:,0], new_kmeans.cluster_centers_[:,1], c =\"red\", s = 250, alpha =0.75)"
   ]
  },
  {
   "cell_type": "code",
   "execution_count": 99,
   "id": "1ebd0e84",
   "metadata": {},
   "outputs": [],
   "source": [
    "from sklearn.metrics.cluster import adjusted_rand_score"
   ]
  },
  {
   "cell_type": "code",
   "execution_count": 100,
   "id": "3295b13d",
   "metadata": {},
   "outputs": [
    {
     "data": {
      "text/html": [
       "<div>\n",
       "<style scoped>\n",
       "    .dataframe tbody tr th:only-of-type {\n",
       "        vertical-align: middle;\n",
       "    }\n",
       "\n",
       "    .dataframe tbody tr th {\n",
       "        vertical-align: top;\n",
       "    }\n",
       "\n",
       "    .dataframe thead th {\n",
       "        text-align: right;\n",
       "    }\n",
       "</style>\n",
       "<table border=\"1\" class=\"dataframe\">\n",
       "  <thead>\n",
       "    <tr style=\"text-align: right;\">\n",
       "      <th></th>\n",
       "      <th>Murder</th>\n",
       "      <th>Assault</th>\n",
       "      <th>UrbanPop</th>\n",
       "      <th>Rape</th>\n",
       "      <th>cluster_id</th>\n",
       "    </tr>\n",
       "    <tr>\n",
       "      <th>rownames</th>\n",
       "      <th></th>\n",
       "      <th></th>\n",
       "      <th></th>\n",
       "      <th></th>\n",
       "      <th></th>\n",
       "    </tr>\n",
       "  </thead>\n",
       "  <tbody>\n",
       "    <tr>\n",
       "      <th>Indiana</th>\n",
       "      <td>7.2</td>\n",
       "      <td>113</td>\n",
       "      <td>65</td>\n",
       "      <td>21.0</td>\n",
       "      <td>3</td>\n",
       "    </tr>\n",
       "    <tr>\n",
       "      <th>South Carolina</th>\n",
       "      <td>14.4</td>\n",
       "      <td>279</td>\n",
       "      <td>48</td>\n",
       "      <td>22.5</td>\n",
       "      <td>1</td>\n",
       "    </tr>\n",
       "    <tr>\n",
       "      <th>New Mexico</th>\n",
       "      <td>11.4</td>\n",
       "      <td>285</td>\n",
       "      <td>70</td>\n",
       "      <td>32.1</td>\n",
       "      <td>1</td>\n",
       "    </tr>\n",
       "    <tr>\n",
       "      <th>Virginia</th>\n",
       "      <td>8.5</td>\n",
       "      <td>156</td>\n",
       "      <td>63</td>\n",
       "      <td>20.7</td>\n",
       "      <td>2</td>\n",
       "    </tr>\n",
       "    <tr>\n",
       "      <th>Louisiana</th>\n",
       "      <td>15.4</td>\n",
       "      <td>249</td>\n",
       "      <td>66</td>\n",
       "      <td>22.2</td>\n",
       "      <td>1</td>\n",
       "    </tr>\n",
       "    <tr>\n",
       "      <th>Wisconsin</th>\n",
       "      <td>2.6</td>\n",
       "      <td>53</td>\n",
       "      <td>66</td>\n",
       "      <td>10.8</td>\n",
       "      <td>0</td>\n",
       "    </tr>\n",
       "    <tr>\n",
       "      <th>Nebraska</th>\n",
       "      <td>4.3</td>\n",
       "      <td>102</td>\n",
       "      <td>62</td>\n",
       "      <td>16.5</td>\n",
       "      <td>3</td>\n",
       "    </tr>\n",
       "    <tr>\n",
       "      <th>Montana</th>\n",
       "      <td>6.0</td>\n",
       "      <td>109</td>\n",
       "      <td>53</td>\n",
       "      <td>16.4</td>\n",
       "      <td>3</td>\n",
       "    </tr>\n",
       "    <tr>\n",
       "      <th>North Carolina</th>\n",
       "      <td>13.0</td>\n",
       "      <td>337</td>\n",
       "      <td>45</td>\n",
       "      <td>16.1</td>\n",
       "      <td>1</td>\n",
       "    </tr>\n",
       "    <tr>\n",
       "      <th>Maryland</th>\n",
       "      <td>11.3</td>\n",
       "      <td>300</td>\n",
       "      <td>67</td>\n",
       "      <td>27.8</td>\n",
       "      <td>1</td>\n",
       "    </tr>\n",
       "    <tr>\n",
       "      <th>Illinois</th>\n",
       "      <td>10.4</td>\n",
       "      <td>249</td>\n",
       "      <td>83</td>\n",
       "      <td>24.0</td>\n",
       "      <td>1</td>\n",
       "    </tr>\n",
       "    <tr>\n",
       "      <th>California</th>\n",
       "      <td>9.0</td>\n",
       "      <td>276</td>\n",
       "      <td>91</td>\n",
       "      <td>40.6</td>\n",
       "      <td>1</td>\n",
       "    </tr>\n",
       "    <tr>\n",
       "      <th>Pennsylvania</th>\n",
       "      <td>6.3</td>\n",
       "      <td>106</td>\n",
       "      <td>72</td>\n",
       "      <td>14.9</td>\n",
       "      <td>3</td>\n",
       "    </tr>\n",
       "    <tr>\n",
       "      <th>Florida</th>\n",
       "      <td>15.4</td>\n",
       "      <td>335</td>\n",
       "      <td>80</td>\n",
       "      <td>31.9</td>\n",
       "      <td>1</td>\n",
       "    </tr>\n",
       "    <tr>\n",
       "      <th>Arkansas</th>\n",
       "      <td>8.8</td>\n",
       "      <td>190</td>\n",
       "      <td>50</td>\n",
       "      <td>19.5</td>\n",
       "      <td>2</td>\n",
       "    </tr>\n",
       "  </tbody>\n",
       "</table>\n",
       "</div>"
      ],
      "text/plain": [
       "                Murder  Assault  UrbanPop  Rape  cluster_id\n",
       "rownames                                                   \n",
       "Indiana            7.2      113        65  21.0           3\n",
       "South Carolina    14.4      279        48  22.5           1\n",
       "New Mexico        11.4      285        70  32.1           1\n",
       "Virginia           8.5      156        63  20.7           2\n",
       "Louisiana         15.4      249        66  22.2           1\n",
       "Wisconsin          2.6       53        66  10.8           0\n",
       "Nebraska           4.3      102        62  16.5           3\n",
       "Montana            6.0      109        53  16.4           3\n",
       "North Carolina    13.0      337        45  16.1           1\n",
       "Maryland          11.3      300        67  27.8           1\n",
       "Illinois          10.4      249        83  24.0           1\n",
       "California         9.0      276        91  40.6           1\n",
       "Pennsylvania       6.3      106        72  14.9           3\n",
       "Florida           15.4      335        80  31.9           1\n",
       "Arkansas           8.8      190        50  19.5           2"
      ]
     },
     "execution_count": 100,
     "metadata": {},
     "output_type": "execute_result"
    }
   ],
   "source": [
    "new_df = df.sample(15, random_state =42)\n",
    "new_df"
   ]
  },
  {
   "cell_type": "code",
   "execution_count": 101,
   "id": "a1c36e43",
   "metadata": {},
   "outputs": [],
   "source": [
    "new_df[\"true_label\"] = [1,2,3,0,2,2,1,3,2,0,2,1,1,2,3]"
   ]
  },
  {
   "cell_type": "code",
   "execution_count": 102,
   "id": "028c892a",
   "metadata": {},
   "outputs": [
    {
     "data": {
      "text/html": [
       "<div>\n",
       "<style scoped>\n",
       "    .dataframe tbody tr th:only-of-type {\n",
       "        vertical-align: middle;\n",
       "    }\n",
       "\n",
       "    .dataframe tbody tr th {\n",
       "        vertical-align: top;\n",
       "    }\n",
       "\n",
       "    .dataframe thead th {\n",
       "        text-align: right;\n",
       "    }\n",
       "</style>\n",
       "<table border=\"1\" class=\"dataframe\">\n",
       "  <thead>\n",
       "    <tr style=\"text-align: right;\">\n",
       "      <th></th>\n",
       "      <th>Murder</th>\n",
       "      <th>Assault</th>\n",
       "      <th>UrbanPop</th>\n",
       "      <th>Rape</th>\n",
       "      <th>cluster_id</th>\n",
       "      <th>true_label</th>\n",
       "    </tr>\n",
       "    <tr>\n",
       "      <th>rownames</th>\n",
       "      <th></th>\n",
       "      <th></th>\n",
       "      <th></th>\n",
       "      <th></th>\n",
       "      <th></th>\n",
       "      <th></th>\n",
       "    </tr>\n",
       "  </thead>\n",
       "  <tbody>\n",
       "    <tr>\n",
       "      <th>Indiana</th>\n",
       "      <td>7.2</td>\n",
       "      <td>113</td>\n",
       "      <td>65</td>\n",
       "      <td>21.0</td>\n",
       "      <td>3</td>\n",
       "      <td>1</td>\n",
       "    </tr>\n",
       "    <tr>\n",
       "      <th>South Carolina</th>\n",
       "      <td>14.4</td>\n",
       "      <td>279</td>\n",
       "      <td>48</td>\n",
       "      <td>22.5</td>\n",
       "      <td>1</td>\n",
       "      <td>2</td>\n",
       "    </tr>\n",
       "    <tr>\n",
       "      <th>New Mexico</th>\n",
       "      <td>11.4</td>\n",
       "      <td>285</td>\n",
       "      <td>70</td>\n",
       "      <td>32.1</td>\n",
       "      <td>1</td>\n",
       "      <td>3</td>\n",
       "    </tr>\n",
       "    <tr>\n",
       "      <th>Virginia</th>\n",
       "      <td>8.5</td>\n",
       "      <td>156</td>\n",
       "      <td>63</td>\n",
       "      <td>20.7</td>\n",
       "      <td>2</td>\n",
       "      <td>0</td>\n",
       "    </tr>\n",
       "    <tr>\n",
       "      <th>Louisiana</th>\n",
       "      <td>15.4</td>\n",
       "      <td>249</td>\n",
       "      <td>66</td>\n",
       "      <td>22.2</td>\n",
       "      <td>1</td>\n",
       "      <td>2</td>\n",
       "    </tr>\n",
       "    <tr>\n",
       "      <th>Wisconsin</th>\n",
       "      <td>2.6</td>\n",
       "      <td>53</td>\n",
       "      <td>66</td>\n",
       "      <td>10.8</td>\n",
       "      <td>0</td>\n",
       "      <td>2</td>\n",
       "    </tr>\n",
       "    <tr>\n",
       "      <th>Nebraska</th>\n",
       "      <td>4.3</td>\n",
       "      <td>102</td>\n",
       "      <td>62</td>\n",
       "      <td>16.5</td>\n",
       "      <td>3</td>\n",
       "      <td>1</td>\n",
       "    </tr>\n",
       "    <tr>\n",
       "      <th>Montana</th>\n",
       "      <td>6.0</td>\n",
       "      <td>109</td>\n",
       "      <td>53</td>\n",
       "      <td>16.4</td>\n",
       "      <td>3</td>\n",
       "      <td>3</td>\n",
       "    </tr>\n",
       "    <tr>\n",
       "      <th>North Carolina</th>\n",
       "      <td>13.0</td>\n",
       "      <td>337</td>\n",
       "      <td>45</td>\n",
       "      <td>16.1</td>\n",
       "      <td>1</td>\n",
       "      <td>2</td>\n",
       "    </tr>\n",
       "    <tr>\n",
       "      <th>Maryland</th>\n",
       "      <td>11.3</td>\n",
       "      <td>300</td>\n",
       "      <td>67</td>\n",
       "      <td>27.8</td>\n",
       "      <td>1</td>\n",
       "      <td>0</td>\n",
       "    </tr>\n",
       "    <tr>\n",
       "      <th>Illinois</th>\n",
       "      <td>10.4</td>\n",
       "      <td>249</td>\n",
       "      <td>83</td>\n",
       "      <td>24.0</td>\n",
       "      <td>1</td>\n",
       "      <td>2</td>\n",
       "    </tr>\n",
       "    <tr>\n",
       "      <th>California</th>\n",
       "      <td>9.0</td>\n",
       "      <td>276</td>\n",
       "      <td>91</td>\n",
       "      <td>40.6</td>\n",
       "      <td>1</td>\n",
       "      <td>1</td>\n",
       "    </tr>\n",
       "    <tr>\n",
       "      <th>Pennsylvania</th>\n",
       "      <td>6.3</td>\n",
       "      <td>106</td>\n",
       "      <td>72</td>\n",
       "      <td>14.9</td>\n",
       "      <td>3</td>\n",
       "      <td>1</td>\n",
       "    </tr>\n",
       "    <tr>\n",
       "      <th>Florida</th>\n",
       "      <td>15.4</td>\n",
       "      <td>335</td>\n",
       "      <td>80</td>\n",
       "      <td>31.9</td>\n",
       "      <td>1</td>\n",
       "      <td>2</td>\n",
       "    </tr>\n",
       "    <tr>\n",
       "      <th>Arkansas</th>\n",
       "      <td>8.8</td>\n",
       "      <td>190</td>\n",
       "      <td>50</td>\n",
       "      <td>19.5</td>\n",
       "      <td>2</td>\n",
       "      <td>3</td>\n",
       "    </tr>\n",
       "  </tbody>\n",
       "</table>\n",
       "</div>"
      ],
      "text/plain": [
       "                Murder  Assault  UrbanPop  Rape  cluster_id  true_label\n",
       "rownames                                                               \n",
       "Indiana            7.2      113        65  21.0           3           1\n",
       "South Carolina    14.4      279        48  22.5           1           2\n",
       "New Mexico        11.4      285        70  32.1           1           3\n",
       "Virginia           8.5      156        63  20.7           2           0\n",
       "Louisiana         15.4      249        66  22.2           1           2\n",
       "Wisconsin          2.6       53        66  10.8           0           2\n",
       "Nebraska           4.3      102        62  16.5           3           1\n",
       "Montana            6.0      109        53  16.4           3           3\n",
       "North Carolina    13.0      337        45  16.1           1           2\n",
       "Maryland          11.3      300        67  27.8           1           0\n",
       "Illinois          10.4      249        83  24.0           1           2\n",
       "California         9.0      276        91  40.6           1           1\n",
       "Pennsylvania       6.3      106        72  14.9           3           1\n",
       "Florida           15.4      335        80  31.9           1           2\n",
       "Arkansas           8.8      190        50  19.5           2           3"
      ]
     },
     "execution_count": 102,
     "metadata": {},
     "output_type": "execute_result"
    }
   ],
   "source": [
    "new_df"
   ]
  },
  {
   "cell_type": "code",
   "execution_count": 103,
   "id": "6c9096e0",
   "metadata": {},
   "outputs": [
    {
     "data": {
      "text/plain": [
       "0.2153846153846154"
      ]
     },
     "execution_count": 103,
     "metadata": {},
     "output_type": "execute_result"
    }
   ],
   "source": [
    "adjusted_rand_score(new_df[\"true_label\"], new_df[\"cluster_id\"])"
   ]
  },
  {
   "cell_type": "markdown",
   "id": "f7791eb8",
   "metadata": {},
   "source": [
    "**Hierarchical Clustering**"
   ]
  },
  {
   "cell_type": "code",
   "execution_count": 104,
   "id": "12789e44",
   "metadata": {},
   "outputs": [],
   "source": [
    "from sklearn.datasets import make_blobs"
   ]
  },
  {
   "cell_type": "code",
   "execution_count": 108,
   "id": "89c1c7d7",
   "metadata": {},
   "outputs": [],
   "source": [
    "data = make_blobs(n_samples =300, n_features =2, centers =3, cluster_std =1.3, random_state =42)"
   ]
  },
  {
   "cell_type": "code",
   "execution_count": 109,
   "id": "c0d11d7e",
   "metadata": {},
   "outputs": [
    {
     "data": {
      "text/plain": [
       "(array([[ -7.47679636,  -7.98490727],\n",
       "        [ -7.99816457,  -7.3800318 ],\n",
       "        [ -1.43988924,   7.42718938],\n",
       "        [  4.35689327,   3.40157959],\n",
       "        [ -9.52918909,  -8.1906218 ],\n",
       "        [  5.75483635,   1.76524959],\n",
       "        [ -2.28406242,   9.51519872],\n",
       "        [  5.17668973,   1.24032777],\n",
       "        [ -3.13212413,   8.77292946],\n",
       "        [ -4.05789217,   9.86780582],\n",
       "        [ -3.29141622,  11.42224777],\n",
       "        [  5.10399897,   1.07238721],\n",
       "        [ -2.23767495,   6.46671497],\n",
       "        [ -4.34917959,   8.46744721],\n",
       "        [ -7.72546253,  -7.51337259],\n",
       "        [ -3.42186665,   8.58832534],\n",
       "        [ -8.99543236,  -6.81759916],\n",
       "        [  2.00719347,   2.21556029],\n",
       "        [ -2.38299681,  10.27352462],\n",
       "        [ -1.7462834 ,  11.86187844],\n",
       "        [ -1.00302337,   7.94739911],\n",
       "        [ -2.71886905,   9.53955224],\n",
       "        [  5.90753449,   1.78199509],\n",
       "        [ -7.02565366,  -7.16737007],\n",
       "        [ -3.11164062,   8.40883745],\n",
       "        [ -6.19088176,  -5.00607039],\n",
       "        [ -7.62942992,  -5.898101  ],\n",
       "        [  3.57619195,   4.69327314],\n",
       "        [  4.62395803,   0.806739  ],\n",
       "        [ -3.66556638,   7.95373276],\n",
       "        [ -3.79689485,   8.27809908],\n",
       "        [ -3.90135787,   9.64150027],\n",
       "        [ -5.80019063,  -7.99301857],\n",
       "        [ -2.23087576,   7.39482572],\n",
       "        [ -8.84937557,  -5.10317305],\n",
       "        [ -2.21349971,  10.71357171],\n",
       "        [ -5.89554199,  -8.07892451],\n",
       "        [  4.95833538,   1.31414356],\n",
       "        [ -7.01876666,  -8.22592461],\n",
       "        [  5.0841616 ,   4.41219177],\n",
       "        [  6.28686333,   1.05319938],\n",
       "        [ -2.17438212,   8.91750644],\n",
       "        [ -7.51351528,  -7.44243524],\n",
       "        [  4.49097704,   3.58233089],\n",
       "        [ -2.55432292,   7.49500468],\n",
       "        [ -2.03938334,  11.01373366],\n",
       "        [ -6.78659108,  -7.50106427],\n",
       "        [  4.00890622,   2.07960607],\n",
       "        [ -6.44074373,  -7.41554965],\n",
       "        [  6.7017007 ,   0.36400954],\n",
       "        [  4.73842476,   1.09285946],\n",
       "        [ -6.88999162,  -4.95618221],\n",
       "        [ -6.40304947,  -8.10195332],\n",
       "        [ -0.58793536,   8.34053484],\n",
       "        [ -5.34654085,  -6.79233557],\n",
       "        [  5.30944083,   6.98172062],\n",
       "        [ -6.36683941,  -7.42738942],\n",
       "        [ -1.25680866,   9.55090133],\n",
       "        [  4.78745139,   2.83393956],\n",
       "        [ -3.10802803,  10.38854502],\n",
       "        [ -6.57332827,  -5.87798484],\n",
       "        [  7.41282222,  -0.56454446],\n",
       "        [  5.80935867,   2.37265906],\n",
       "        [ -2.87708214,  -5.42466221],\n",
       "        [ -7.20328058,  -5.61706736],\n",
       "        [  3.47193976,   2.61266461],\n",
       "        [  3.70590135,   1.69568839],\n",
       "        [ -5.95452785,  -8.34214431],\n",
       "        [ -9.09402436,  -6.9523216 ],\n",
       "        [ -3.89019245,   9.62995629],\n",
       "        [  6.33700129,   2.00047468],\n",
       "        [ -5.50367536,  -9.16647093],\n",
       "        [ -7.78927035,  -6.60193571],\n",
       "        [ -1.89398871,   8.91960854],\n",
       "        [ -3.01893822,   7.1117167 ],\n",
       "        [ -6.52803332,  -6.94541914],\n",
       "        [ -9.56730192,  -6.99596564],\n",
       "        [  3.65300638,   2.16868161],\n",
       "        [ -3.29002792,   8.63508425],\n",
       "        [  6.17315099,   1.36324134],\n",
       "        [ -3.82587808,   9.42280766],\n",
       "        [ -2.60281078,  10.3188789 ],\n",
       "        [ -6.22843485,  -8.15093141],\n",
       "        [ -2.07855516,  10.28249479],\n",
       "        [  5.87542983,   1.22319493],\n",
       "        [ -5.79322745,  -8.3487285 ],\n",
       "        [ -5.36151051,  -6.5493625 ],\n",
       "        [ -0.08369076,   9.63026893],\n",
       "        [  6.93496935,   2.49964591],\n",
       "        [ -4.3001678 ,   7.79511358],\n",
       "        [ -9.04985406,  -6.17374134],\n",
       "        [ -2.55577147,  11.04832288],\n",
       "        [ -6.25695342,  -6.44634886],\n",
       "        [ -1.31917487,   9.44166257],\n",
       "        [ -3.19788589,   9.68153379],\n",
       "        [ -7.59937129,  -8.43735085],\n",
       "        [ -8.26753375,  -7.06520292],\n",
       "        [ -2.17134999,  10.03065586],\n",
       "        [ -7.87186409,  -9.22645632],\n",
       "        [ -6.34216182,  -4.44027504],\n",
       "        [  4.02244993,   1.12384168],\n",
       "        [ -2.04407405,   9.74330601],\n",
       "        [  4.36931991,   1.33226847],\n",
       "        [ -1.48085609,   7.83208244],\n",
       "        [ -3.6001804 ,   8.61231004],\n",
       "        [ -2.19464667,   6.52702181],\n",
       "        [ -2.06249385,   6.72233393],\n",
       "        [ -2.18355692,   9.4646688 ],\n",
       "        [  7.43901603,   0.97561785],\n",
       "        [ -8.69776504,  -6.14824959],\n",
       "        [  5.53201708,  -0.12336095],\n",
       "        [ -3.5274269 ,   8.59560616],\n",
       "        [ -3.56023931,   8.36200197],\n",
       "        [ -2.42141096,   7.16211349],\n",
       "        [ -2.52674402,   7.63926192],\n",
       "        [  4.89865644,   1.19288774],\n",
       "        [ -8.22804719,  -7.12754987],\n",
       "        [  2.41280395,   3.73320377],\n",
       "        [ -9.31165669,  -7.33707712],\n",
       "        [  3.33205624,   0.39472449],\n",
       "        [  5.3150293 ,   3.96573027],\n",
       "        [  4.93119906,   1.9895398 ],\n",
       "        [ -0.68556502,   7.19187975],\n",
       "        [ -6.13010314,  -6.47548439],\n",
       "        [ -6.44761898,  -7.85314209],\n",
       "        [ -7.04592006,  -8.12231217],\n",
       "        [ -6.08121048,  -5.89534957],\n",
       "        [ -3.38919622,   9.8094653 ],\n",
       "        [ -5.53082526,  -7.54313091],\n",
       "        [ -7.5689621 ,  -7.91084428],\n",
       "        [ -1.10123101,  10.3842288 ],\n",
       "        [ -5.0036002 ,   8.97981809],\n",
       "        [ -2.38990861,   6.43044654],\n",
       "        [ -4.75159081,   8.28331234],\n",
       "        [ -4.43127621,   8.07848866],\n",
       "        [  5.2963623 ,   3.09865144],\n",
       "        [  4.31154024,   0.35105155],\n",
       "        [ -7.23046461,  -8.15250242],\n",
       "        [ -2.50255013,   8.70932285],\n",
       "        [ -7.54765418,  -8.25708717],\n",
       "        [ -3.11951432,   9.71961418],\n",
       "        [ -2.82820217,   8.03442911],\n",
       "        [ -4.20065489,  -4.5981665 ],\n",
       "        [ -2.39603643,   8.62557657],\n",
       "        [  2.66469788,   1.34366539],\n",
       "        [  3.70998401,   2.85664676],\n",
       "        [  5.69659959,   2.79168718],\n",
       "        [ -2.14949958,  10.08962435],\n",
       "        [  6.3008432 ,   1.20412688],\n",
       "        [ -3.39322976,   9.31621593],\n",
       "        [ -3.68962892,   7.17829132],\n",
       "        [ -4.32548452,  -6.83426698],\n",
       "        [  5.00516826,   1.16366031],\n",
       "        [ -8.87397561,  -5.21912972],\n",
       "        [ -2.12424126,   9.35365798],\n",
       "        [  3.07949351,   1.53831808],\n",
       "        [  4.61581176,   1.59791345],\n",
       "        [ -7.56927868,  -7.62867331],\n",
       "        [ -6.04945699,  -9.04008567],\n",
       "        [ -3.65821229,   9.21412877],\n",
       "        [ -5.91486626,  10.08275938],\n",
       "        [ -8.01793092,  -8.67774924],\n",
       "        [ -4.86312962,  -6.72973257],\n",
       "        [ -5.31804909,  -7.41060758],\n",
       "        [ -2.43352629,   7.52842474],\n",
       "        [ -5.74716508,  -7.30394019],\n",
       "        [  4.02752904,   2.2748346 ],\n",
       "        [ -2.43089835,  12.21650087],\n",
       "        [ -1.83067359,   9.4003662 ],\n",
       "        [ -1.45162524,   7.41416252],\n",
       "        [ -1.02352796,   9.99179907],\n",
       "        [ -3.70444913,  11.02920085],\n",
       "        [  3.54824044,   1.19395924],\n",
       "        [ -3.08966706,  10.12760456],\n",
       "        [  3.36391759,   2.5739042 ],\n",
       "        [  4.67174206,   2.62056746],\n",
       "        [  5.77389566,   2.21151429],\n",
       "        [ -2.85325151,  12.55050604],\n",
       "        [  7.39868189,   3.31537452],\n",
       "        [  5.4512346 ,   2.79001885],\n",
       "        [ -6.76706047,  -7.08249   ],\n",
       "        [ -3.21689516,   9.15848549],\n",
       "        [ -7.74103808,  -6.13833132],\n",
       "        [  6.76201353,   0.11398589],\n",
       "        [  5.3820365 ,   3.44940502],\n",
       "        [-10.09276504,  -7.91607343],\n",
       "        [  5.06129509,   1.80398371],\n",
       "        [ -0.60385422,   8.72077694],\n",
       "        [  0.42623129,   0.64146575],\n",
       "        [  4.067821  ,   2.14313243],\n",
       "        [ -6.96111002,  -5.63842458],\n",
       "        [ -4.76242698,  -8.67424149],\n",
       "        [  3.56673248,   1.55536809],\n",
       "        [ -8.96800741,  -6.61560687],\n",
       "        [  3.69040221,   2.25456585],\n",
       "        [  2.92357567,   4.35406608],\n",
       "        [  4.61515777,   0.66988151],\n",
       "        [  7.42700615,   2.79726441],\n",
       "        [ -3.77628379,  10.03749611],\n",
       "        [ -6.64320106,  -6.55742283],\n",
       "        [ -1.54919107,   9.23706489],\n",
       "        [ -2.65954039,   8.62285132],\n",
       "        [  3.57099232,   2.28996306],\n",
       "        [  3.87370465,   3.07765241],\n",
       "        [ -1.45291405,  10.77739817],\n",
       "        [  5.04405867,   3.89113277],\n",
       "        [ -8.16107105,  -6.22484912],\n",
       "        [ -7.72017194,  -8.286122  ],\n",
       "        [  4.76597359,   2.74687382],\n",
       "        [ -2.03907079,   8.17563045],\n",
       "        [ -2.37965085,   8.35976778],\n",
       "        [ -8.13402769,  -5.9882427 ],\n",
       "        [  6.52636553,   3.22022176],\n",
       "        [  3.0007297 ,   3.16639022],\n",
       "        [ -6.81654907,  -7.96034474],\n",
       "        [ -4.92656302,  -6.78378638],\n",
       "        [ -6.05701077,  -3.92820888],\n",
       "        [ -6.12943343,  -7.1440686 ],\n",
       "        [ -4.11723355,   7.29769253],\n",
       "        [ -7.2371944 ,  -9.87260711],\n",
       "        [ -5.80139994,  -9.75458549],\n",
       "        [  1.87881439,   1.28968816],\n",
       "        [ -7.86288316,  -8.72903942],\n",
       "        [ -8.57543754,  -6.00953528],\n",
       "        [ -2.49229516,  10.90388043],\n",
       "        [  3.60960188,   1.82401231],\n",
       "        [ -7.45720843,  -6.38961895],\n",
       "        [ -4.68634307,  -5.73397791],\n",
       "        [  4.23002882,   2.95982967],\n",
       "        [ -2.60942985,   9.4577837 ],\n",
       "        [ -1.44051942,  11.48011701],\n",
       "        [ -5.67559638,  -4.39786796],\n",
       "        [ -2.95472649,   7.97132568],\n",
       "        [ -8.41786326,  -9.53111142],\n",
       "        [  4.69912223,   1.12608923],\n",
       "        [  5.5264177 ,   1.5698229 ],\n",
       "        [ -7.72701413,  -6.81849132],\n",
       "        [  4.61270676,   2.12569528],\n",
       "        [ -4.74116916,  -7.20385644],\n",
       "        [ -6.96553093,  -8.45443065],\n",
       "        [ -6.50291988,  -4.18208856],\n",
       "        [  5.05941296,   0.89776946],\n",
       "        [  6.14542297,   3.00233119],\n",
       "        [ -1.69583007,   7.8999813 ],\n",
       "        [ -4.89956589,  -6.17952654],\n",
       "        [  2.56712288,   1.19398215],\n",
       "        [  5.53706603,   1.45158307],\n",
       "        [  4.64669565,   2.03424446],\n",
       "        [ -6.54198794,  -8.05572121],\n",
       "        [  5.35110543,   1.71031924],\n",
       "        [ -6.39713756,  -7.66529034],\n",
       "        [  4.49849064,   2.49539492],\n",
       "        [ -7.64973929,  -8.00329759],\n",
       "        [  7.64893497,  -0.45427507],\n",
       "        [  7.48662265,   0.92238191],\n",
       "        [ -6.45462161,  -7.16494028],\n",
       "        [  3.43486922,   1.89578672],\n",
       "        [ -4.23583949,   9.27020573],\n",
       "        [ -8.80178931,  -5.39322934],\n",
       "        [ -2.12820341,   8.08562928],\n",
       "        [ -2.79969924,   9.94248677],\n",
       "        [ -1.16889824,  10.22495028],\n",
       "        [ -6.77904839,  -7.99977906],\n",
       "        [ -4.52506008,   9.103418  ],\n",
       "        [  5.71292009,   3.03073221],\n",
       "        [  3.77955643,   3.08133302],\n",
       "        [ -6.72324287,  -6.21133911],\n",
       "        [  4.73062155,   1.47226201],\n",
       "        [  5.61136052,   2.76665103],\n",
       "        [ -2.75926688,   9.40629767],\n",
       "        [ -0.45622096,  10.01195128],\n",
       "        [  4.76685776,   0.96825696],\n",
       "        [  4.02636741,   3.38880546],\n",
       "        [  5.30942468,   2.64109142],\n",
       "        [ -6.75049519,  -5.90330633],\n",
       "        [ -5.57144654,  -7.63006902],\n",
       "        [ -7.22985608,  -5.94730466],\n",
       "        [ -3.94743309,   7.45921752],\n",
       "        [ -0.05715595,   9.24123728],\n",
       "        [ -3.61002946,   7.04498474],\n",
       "        [  3.63520606,   1.6653055 ],\n",
       "        [  5.21684409,   2.98019395],\n",
       "        [  6.51353411,   0.10654889],\n",
       "        [  2.75736919,   0.14346678],\n",
       "        [ -6.43958186,  -7.41998388],\n",
       "        [  4.72344286,   0.57210147],\n",
       "        [ -6.04063846,  -5.10088857],\n",
       "        [  5.88008113,   2.81997831],\n",
       "        [  4.44255821,   2.73798205],\n",
       "        [ -6.38034211,  -6.92261277],\n",
       "        [ -2.08788846,   8.51367916],\n",
       "        [  4.05479372,   2.7828746 ],\n",
       "        [  6.15199171,   1.98647266],\n",
       "        [ -2.79477108,   9.47853247],\n",
       "        [ -7.19025965,  -8.05994235],\n",
       "        [ -4.00548927,   9.50269355],\n",
       "        [  3.56218532,   1.24493433],\n",
       "        [ -4.59892583,   9.25431014],\n",
       "        [ -6.8556833 ,  -4.70074109],\n",
       "        [ -5.7491395 ,  -5.11778038]]),\n",
       " array([2, 2, 0, 1, 2, 1, 0, 1, 0, 0, 0, 1, 0, 0, 2, 0, 2, 1, 0, 0, 0, 0,\n",
       "        1, 2, 0, 2, 2, 1, 1, 0, 0, 0, 2, 0, 2, 0, 2, 1, 2, 1, 1, 0, 2, 1,\n",
       "        0, 0, 2, 1, 2, 1, 1, 2, 2, 0, 2, 1, 2, 0, 1, 0, 2, 1, 1, 2, 2, 1,\n",
       "        1, 2, 2, 0, 1, 2, 2, 0, 0, 2, 2, 1, 0, 1, 0, 0, 2, 0, 1, 2, 2, 0,\n",
       "        1, 0, 2, 0, 2, 0, 0, 2, 2, 0, 2, 2, 1, 0, 1, 0, 0, 0, 0, 0, 1, 2,\n",
       "        1, 0, 0, 0, 0, 1, 2, 1, 2, 1, 1, 1, 0, 2, 2, 2, 2, 0, 2, 2, 0, 0,\n",
       "        0, 0, 0, 1, 1, 2, 0, 2, 0, 0, 2, 0, 1, 1, 1, 0, 1, 0, 0, 2, 1, 2,\n",
       "        0, 1, 1, 2, 2, 0, 0, 2, 2, 2, 0, 2, 1, 0, 0, 0, 0, 0, 1, 0, 1, 1,\n",
       "        1, 0, 1, 1, 2, 0, 2, 1, 1, 2, 1, 0, 1, 1, 2, 2, 1, 2, 1, 1, 1, 1,\n",
       "        0, 2, 0, 0, 1, 1, 0, 1, 2, 2, 1, 0, 0, 2, 1, 1, 2, 2, 2, 2, 0, 2,\n",
       "        2, 1, 2, 2, 0, 1, 2, 2, 1, 0, 0, 2, 0, 2, 1, 1, 2, 1, 2, 2, 2, 1,\n",
       "        1, 0, 2, 1, 1, 1, 2, 1, 2, 1, 2, 1, 1, 2, 1, 0, 2, 0, 0, 0, 2, 0,\n",
       "        1, 1, 2, 1, 1, 0, 0, 1, 1, 1, 2, 2, 2, 0, 0, 0, 1, 1, 1, 1, 2, 1,\n",
       "        2, 1, 1, 2, 0, 1, 1, 0, 2, 0, 1, 0, 2, 2]))"
      ]
     },
     "execution_count": 109,
     "metadata": {},
     "output_type": "execute_result"
    }
   ],
   "source": [
    "data"
   ]
  },
  {
   "cell_type": "code",
   "execution_count": 111,
   "id": "0901b18a",
   "metadata": {},
   "outputs": [
    {
     "data": {
      "text/plain": [
       "array([[ -7.47679636,  -7.98490727],\n",
       "       [ -7.99816457,  -7.3800318 ],\n",
       "       [ -1.43988924,   7.42718938],\n",
       "       [  4.35689327,   3.40157959],\n",
       "       [ -9.52918909,  -8.1906218 ],\n",
       "       [  5.75483635,   1.76524959],\n",
       "       [ -2.28406242,   9.51519872],\n",
       "       [  5.17668973,   1.24032777],\n",
       "       [ -3.13212413,   8.77292946],\n",
       "       [ -4.05789217,   9.86780582],\n",
       "       [ -3.29141622,  11.42224777],\n",
       "       [  5.10399897,   1.07238721],\n",
       "       [ -2.23767495,   6.46671497],\n",
       "       [ -4.34917959,   8.46744721],\n",
       "       [ -7.72546253,  -7.51337259],\n",
       "       [ -3.42186665,   8.58832534],\n",
       "       [ -8.99543236,  -6.81759916],\n",
       "       [  2.00719347,   2.21556029],\n",
       "       [ -2.38299681,  10.27352462],\n",
       "       [ -1.7462834 ,  11.86187844],\n",
       "       [ -1.00302337,   7.94739911],\n",
       "       [ -2.71886905,   9.53955224],\n",
       "       [  5.90753449,   1.78199509],\n",
       "       [ -7.02565366,  -7.16737007],\n",
       "       [ -3.11164062,   8.40883745],\n",
       "       [ -6.19088176,  -5.00607039],\n",
       "       [ -7.62942992,  -5.898101  ],\n",
       "       [  3.57619195,   4.69327314],\n",
       "       [  4.62395803,   0.806739  ],\n",
       "       [ -3.66556638,   7.95373276],\n",
       "       [ -3.79689485,   8.27809908],\n",
       "       [ -3.90135787,   9.64150027],\n",
       "       [ -5.80019063,  -7.99301857],\n",
       "       [ -2.23087576,   7.39482572],\n",
       "       [ -8.84937557,  -5.10317305],\n",
       "       [ -2.21349971,  10.71357171],\n",
       "       [ -5.89554199,  -8.07892451],\n",
       "       [  4.95833538,   1.31414356],\n",
       "       [ -7.01876666,  -8.22592461],\n",
       "       [  5.0841616 ,   4.41219177],\n",
       "       [  6.28686333,   1.05319938],\n",
       "       [ -2.17438212,   8.91750644],\n",
       "       [ -7.51351528,  -7.44243524],\n",
       "       [  4.49097704,   3.58233089],\n",
       "       [ -2.55432292,   7.49500468],\n",
       "       [ -2.03938334,  11.01373366],\n",
       "       [ -6.78659108,  -7.50106427],\n",
       "       [  4.00890622,   2.07960607],\n",
       "       [ -6.44074373,  -7.41554965],\n",
       "       [  6.7017007 ,   0.36400954],\n",
       "       [  4.73842476,   1.09285946],\n",
       "       [ -6.88999162,  -4.95618221],\n",
       "       [ -6.40304947,  -8.10195332],\n",
       "       [ -0.58793536,   8.34053484],\n",
       "       [ -5.34654085,  -6.79233557],\n",
       "       [  5.30944083,   6.98172062],\n",
       "       [ -6.36683941,  -7.42738942],\n",
       "       [ -1.25680866,   9.55090133],\n",
       "       [  4.78745139,   2.83393956],\n",
       "       [ -3.10802803,  10.38854502],\n",
       "       [ -6.57332827,  -5.87798484],\n",
       "       [  7.41282222,  -0.56454446],\n",
       "       [  5.80935867,   2.37265906],\n",
       "       [ -2.87708214,  -5.42466221],\n",
       "       [ -7.20328058,  -5.61706736],\n",
       "       [  3.47193976,   2.61266461],\n",
       "       [  3.70590135,   1.69568839],\n",
       "       [ -5.95452785,  -8.34214431],\n",
       "       [ -9.09402436,  -6.9523216 ],\n",
       "       [ -3.89019245,   9.62995629],\n",
       "       [  6.33700129,   2.00047468],\n",
       "       [ -5.50367536,  -9.16647093],\n",
       "       [ -7.78927035,  -6.60193571],\n",
       "       [ -1.89398871,   8.91960854],\n",
       "       [ -3.01893822,   7.1117167 ],\n",
       "       [ -6.52803332,  -6.94541914],\n",
       "       [ -9.56730192,  -6.99596564],\n",
       "       [  3.65300638,   2.16868161],\n",
       "       [ -3.29002792,   8.63508425],\n",
       "       [  6.17315099,   1.36324134],\n",
       "       [ -3.82587808,   9.42280766],\n",
       "       [ -2.60281078,  10.3188789 ],\n",
       "       [ -6.22843485,  -8.15093141],\n",
       "       [ -2.07855516,  10.28249479],\n",
       "       [  5.87542983,   1.22319493],\n",
       "       [ -5.79322745,  -8.3487285 ],\n",
       "       [ -5.36151051,  -6.5493625 ],\n",
       "       [ -0.08369076,   9.63026893],\n",
       "       [  6.93496935,   2.49964591],\n",
       "       [ -4.3001678 ,   7.79511358],\n",
       "       [ -9.04985406,  -6.17374134],\n",
       "       [ -2.55577147,  11.04832288],\n",
       "       [ -6.25695342,  -6.44634886],\n",
       "       [ -1.31917487,   9.44166257],\n",
       "       [ -3.19788589,   9.68153379],\n",
       "       [ -7.59937129,  -8.43735085],\n",
       "       [ -8.26753375,  -7.06520292],\n",
       "       [ -2.17134999,  10.03065586],\n",
       "       [ -7.87186409,  -9.22645632],\n",
       "       [ -6.34216182,  -4.44027504],\n",
       "       [  4.02244993,   1.12384168],\n",
       "       [ -2.04407405,   9.74330601],\n",
       "       [  4.36931991,   1.33226847],\n",
       "       [ -1.48085609,   7.83208244],\n",
       "       [ -3.6001804 ,   8.61231004],\n",
       "       [ -2.19464667,   6.52702181],\n",
       "       [ -2.06249385,   6.72233393],\n",
       "       [ -2.18355692,   9.4646688 ],\n",
       "       [  7.43901603,   0.97561785],\n",
       "       [ -8.69776504,  -6.14824959],\n",
       "       [  5.53201708,  -0.12336095],\n",
       "       [ -3.5274269 ,   8.59560616],\n",
       "       [ -3.56023931,   8.36200197],\n",
       "       [ -2.42141096,   7.16211349],\n",
       "       [ -2.52674402,   7.63926192],\n",
       "       [  4.89865644,   1.19288774],\n",
       "       [ -8.22804719,  -7.12754987],\n",
       "       [  2.41280395,   3.73320377],\n",
       "       [ -9.31165669,  -7.33707712],\n",
       "       [  3.33205624,   0.39472449],\n",
       "       [  5.3150293 ,   3.96573027],\n",
       "       [  4.93119906,   1.9895398 ],\n",
       "       [ -0.68556502,   7.19187975],\n",
       "       [ -6.13010314,  -6.47548439],\n",
       "       [ -6.44761898,  -7.85314209],\n",
       "       [ -7.04592006,  -8.12231217],\n",
       "       [ -6.08121048,  -5.89534957],\n",
       "       [ -3.38919622,   9.8094653 ],\n",
       "       [ -5.53082526,  -7.54313091],\n",
       "       [ -7.5689621 ,  -7.91084428],\n",
       "       [ -1.10123101,  10.3842288 ],\n",
       "       [ -5.0036002 ,   8.97981809],\n",
       "       [ -2.38990861,   6.43044654],\n",
       "       [ -4.75159081,   8.28331234],\n",
       "       [ -4.43127621,   8.07848866],\n",
       "       [  5.2963623 ,   3.09865144],\n",
       "       [  4.31154024,   0.35105155],\n",
       "       [ -7.23046461,  -8.15250242],\n",
       "       [ -2.50255013,   8.70932285],\n",
       "       [ -7.54765418,  -8.25708717],\n",
       "       [ -3.11951432,   9.71961418],\n",
       "       [ -2.82820217,   8.03442911],\n",
       "       [ -4.20065489,  -4.5981665 ],\n",
       "       [ -2.39603643,   8.62557657],\n",
       "       [  2.66469788,   1.34366539],\n",
       "       [  3.70998401,   2.85664676],\n",
       "       [  5.69659959,   2.79168718],\n",
       "       [ -2.14949958,  10.08962435],\n",
       "       [  6.3008432 ,   1.20412688],\n",
       "       [ -3.39322976,   9.31621593],\n",
       "       [ -3.68962892,   7.17829132],\n",
       "       [ -4.32548452,  -6.83426698],\n",
       "       [  5.00516826,   1.16366031],\n",
       "       [ -8.87397561,  -5.21912972],\n",
       "       [ -2.12424126,   9.35365798],\n",
       "       [  3.07949351,   1.53831808],\n",
       "       [  4.61581176,   1.59791345],\n",
       "       [ -7.56927868,  -7.62867331],\n",
       "       [ -6.04945699,  -9.04008567],\n",
       "       [ -3.65821229,   9.21412877],\n",
       "       [ -5.91486626,  10.08275938],\n",
       "       [ -8.01793092,  -8.67774924],\n",
       "       [ -4.86312962,  -6.72973257],\n",
       "       [ -5.31804909,  -7.41060758],\n",
       "       [ -2.43352629,   7.52842474],\n",
       "       [ -5.74716508,  -7.30394019],\n",
       "       [  4.02752904,   2.2748346 ],\n",
       "       [ -2.43089835,  12.21650087],\n",
       "       [ -1.83067359,   9.4003662 ],\n",
       "       [ -1.45162524,   7.41416252],\n",
       "       [ -1.02352796,   9.99179907],\n",
       "       [ -3.70444913,  11.02920085],\n",
       "       [  3.54824044,   1.19395924],\n",
       "       [ -3.08966706,  10.12760456],\n",
       "       [  3.36391759,   2.5739042 ],\n",
       "       [  4.67174206,   2.62056746],\n",
       "       [  5.77389566,   2.21151429],\n",
       "       [ -2.85325151,  12.55050604],\n",
       "       [  7.39868189,   3.31537452],\n",
       "       [  5.4512346 ,   2.79001885],\n",
       "       [ -6.76706047,  -7.08249   ],\n",
       "       [ -3.21689516,   9.15848549],\n",
       "       [ -7.74103808,  -6.13833132],\n",
       "       [  6.76201353,   0.11398589],\n",
       "       [  5.3820365 ,   3.44940502],\n",
       "       [-10.09276504,  -7.91607343],\n",
       "       [  5.06129509,   1.80398371],\n",
       "       [ -0.60385422,   8.72077694],\n",
       "       [  0.42623129,   0.64146575],\n",
       "       [  4.067821  ,   2.14313243],\n",
       "       [ -6.96111002,  -5.63842458],\n",
       "       [ -4.76242698,  -8.67424149],\n",
       "       [  3.56673248,   1.55536809],\n",
       "       [ -8.96800741,  -6.61560687],\n",
       "       [  3.69040221,   2.25456585],\n",
       "       [  2.92357567,   4.35406608],\n",
       "       [  4.61515777,   0.66988151],\n",
       "       [  7.42700615,   2.79726441],\n",
       "       [ -3.77628379,  10.03749611],\n",
       "       [ -6.64320106,  -6.55742283],\n",
       "       [ -1.54919107,   9.23706489],\n",
       "       [ -2.65954039,   8.62285132],\n",
       "       [  3.57099232,   2.28996306],\n",
       "       [  3.87370465,   3.07765241],\n",
       "       [ -1.45291405,  10.77739817],\n",
       "       [  5.04405867,   3.89113277],\n",
       "       [ -8.16107105,  -6.22484912],\n",
       "       [ -7.72017194,  -8.286122  ],\n",
       "       [  4.76597359,   2.74687382],\n",
       "       [ -2.03907079,   8.17563045],\n",
       "       [ -2.37965085,   8.35976778],\n",
       "       [ -8.13402769,  -5.9882427 ],\n",
       "       [  6.52636553,   3.22022176],\n",
       "       [  3.0007297 ,   3.16639022],\n",
       "       [ -6.81654907,  -7.96034474],\n",
       "       [ -4.92656302,  -6.78378638],\n",
       "       [ -6.05701077,  -3.92820888],\n",
       "       [ -6.12943343,  -7.1440686 ],\n",
       "       [ -4.11723355,   7.29769253],\n",
       "       [ -7.2371944 ,  -9.87260711],\n",
       "       [ -5.80139994,  -9.75458549],\n",
       "       [  1.87881439,   1.28968816],\n",
       "       [ -7.86288316,  -8.72903942],\n",
       "       [ -8.57543754,  -6.00953528],\n",
       "       [ -2.49229516,  10.90388043],\n",
       "       [  3.60960188,   1.82401231],\n",
       "       [ -7.45720843,  -6.38961895],\n",
       "       [ -4.68634307,  -5.73397791],\n",
       "       [  4.23002882,   2.95982967],\n",
       "       [ -2.60942985,   9.4577837 ],\n",
       "       [ -1.44051942,  11.48011701],\n",
       "       [ -5.67559638,  -4.39786796],\n",
       "       [ -2.95472649,   7.97132568],\n",
       "       [ -8.41786326,  -9.53111142],\n",
       "       [  4.69912223,   1.12608923],\n",
       "       [  5.5264177 ,   1.5698229 ],\n",
       "       [ -7.72701413,  -6.81849132],\n",
       "       [  4.61270676,   2.12569528],\n",
       "       [ -4.74116916,  -7.20385644],\n",
       "       [ -6.96553093,  -8.45443065],\n",
       "       [ -6.50291988,  -4.18208856],\n",
       "       [  5.05941296,   0.89776946],\n",
       "       [  6.14542297,   3.00233119],\n",
       "       [ -1.69583007,   7.8999813 ],\n",
       "       [ -4.89956589,  -6.17952654],\n",
       "       [  2.56712288,   1.19398215],\n",
       "       [  5.53706603,   1.45158307],\n",
       "       [  4.64669565,   2.03424446],\n",
       "       [ -6.54198794,  -8.05572121],\n",
       "       [  5.35110543,   1.71031924],\n",
       "       [ -6.39713756,  -7.66529034],\n",
       "       [  4.49849064,   2.49539492],\n",
       "       [ -7.64973929,  -8.00329759],\n",
       "       [  7.64893497,  -0.45427507],\n",
       "       [  7.48662265,   0.92238191],\n",
       "       [ -6.45462161,  -7.16494028],\n",
       "       [  3.43486922,   1.89578672],\n",
       "       [ -4.23583949,   9.27020573],\n",
       "       [ -8.80178931,  -5.39322934],\n",
       "       [ -2.12820341,   8.08562928],\n",
       "       [ -2.79969924,   9.94248677],\n",
       "       [ -1.16889824,  10.22495028],\n",
       "       [ -6.77904839,  -7.99977906],\n",
       "       [ -4.52506008,   9.103418  ],\n",
       "       [  5.71292009,   3.03073221],\n",
       "       [  3.77955643,   3.08133302],\n",
       "       [ -6.72324287,  -6.21133911],\n",
       "       [  4.73062155,   1.47226201],\n",
       "       [  5.61136052,   2.76665103],\n",
       "       [ -2.75926688,   9.40629767],\n",
       "       [ -0.45622096,  10.01195128],\n",
       "       [  4.76685776,   0.96825696],\n",
       "       [  4.02636741,   3.38880546],\n",
       "       [  5.30942468,   2.64109142],\n",
       "       [ -6.75049519,  -5.90330633],\n",
       "       [ -5.57144654,  -7.63006902],\n",
       "       [ -7.22985608,  -5.94730466],\n",
       "       [ -3.94743309,   7.45921752],\n",
       "       [ -0.05715595,   9.24123728],\n",
       "       [ -3.61002946,   7.04498474],\n",
       "       [  3.63520606,   1.6653055 ],\n",
       "       [  5.21684409,   2.98019395],\n",
       "       [  6.51353411,   0.10654889],\n",
       "       [  2.75736919,   0.14346678],\n",
       "       [ -6.43958186,  -7.41998388],\n",
       "       [  4.72344286,   0.57210147],\n",
       "       [ -6.04063846,  -5.10088857],\n",
       "       [  5.88008113,   2.81997831],\n",
       "       [  4.44255821,   2.73798205],\n",
       "       [ -6.38034211,  -6.92261277],\n",
       "       [ -2.08788846,   8.51367916],\n",
       "       [  4.05479372,   2.7828746 ],\n",
       "       [  6.15199171,   1.98647266],\n",
       "       [ -2.79477108,   9.47853247],\n",
       "       [ -7.19025965,  -8.05994235],\n",
       "       [ -4.00548927,   9.50269355],\n",
       "       [  3.56218532,   1.24493433],\n",
       "       [ -4.59892583,   9.25431014],\n",
       "       [ -6.8556833 ,  -4.70074109],\n",
       "       [ -5.7491395 ,  -5.11778038]])"
      ]
     },
     "execution_count": 111,
     "metadata": {},
     "output_type": "execute_result"
    }
   ],
   "source": [
    "dots = data[0]\n",
    "dots"
   ]
  },
  {
   "cell_type": "code",
   "execution_count": 112,
   "id": "686209b8",
   "metadata": {},
   "outputs": [],
   "source": [
    "import scipy.cluster.hierarchy as sch"
   ]
  },
  {
   "cell_type": "code",
   "execution_count": 114,
   "id": "9cb552cc",
   "metadata": {},
   "outputs": [
    {
     "data": {
      "image/png": "[encoded data removed]",
      "text/plain": [
       "<Figure size 800x550 with 1 Axes>"
      ]
     },
     "metadata": {},
     "output_type": "display_data"
    }
   ],
   "source": [
    "dendrogram = sch.dendrogram(sch.linkage(dots, method =\"ward\"))"
   ]
  },
  {
   "cell_type": "code",
   "execution_count": 117,
   "id": "7b33cbbd",
   "metadata": {},
   "outputs": [
    {
     "data": {
      "text/plain": [
       "<matplotlib.collections.PathCollection at 0x24a06ef3610>"
      ]
     },
     "execution_count": 117,
     "metadata": {},
     "output_type": "execute_result"
    },
    {
     "data": {
      "image/png": "[encoded data removed]",
      "text/plain": [
       "<Figure size 1000x700 with 1 Axes>"
      ]
     },
     "metadata": {},
     "output_type": "display_data"
    }
   ],
   "source": [
    "plt.figure(figsize =(10,7))\n",
    "plt.scatter(dots[:,0], dots[:,1])"
   ]
  },
  {
   "cell_type": "code",
   "execution_count": 119,
   "id": "897de338",
   "metadata": {},
   "outputs": [],
   "source": [
    "from sklearn.cluster import AgglomerativeClustering"
   ]
  },
  {
   "cell_type": "code",
   "execution_count": 122,
   "id": "1b959273",
   "metadata": {},
   "outputs": [],
   "source": [
    "hierarchial_clustering = AgglomerativeClustering(n_clusters =5, affinity = \"euclidean\", linkage = \"ward\")"
   ]
  },
  {
   "cell_type": "code",
   "execution_count": 123,
   "id": "ba9bb1e1",
   "metadata": {},
   "outputs": [],
   "source": [
    "y_hier_clus = hierarchial_clustering.fit_predict(dots)"
   ]
  },
  {
   "cell_type": "code",
   "execution_count": 124,
   "id": "47a8dc6c",
   "metadata": {},
   "outputs": [
    {
     "data": {
      "text/plain": [
       "array([1, 1, 0, 4, 1, 2, 0, 2, 0, 0, 0, 2, 0, 0, 1, 0, 1, 4, 0, 0, 0, 0,\n",
       "       2, 1, 0, 3, 1, 4, 2, 0, 0, 0, 1, 0, 1, 0, 1, 2, 1, 2, 2, 0, 1, 4,\n",
       "       0, 0, 1, 4, 1, 2, 2, 3, 1, 0, 3, 2, 1, 0, 4, 0, 3, 2, 2, 3, 1, 4,\n",
       "       4, 1, 1, 0, 2, 1, 1, 0, 0, 1, 1, 4, 0, 2, 0, 0, 1, 0, 2, 1, 3, 0,\n",
       "       2, 0, 1, 0, 3, 0, 0, 1, 1, 0, 1, 3, 2, 0, 2, 0, 0, 0, 0, 0, 2, 1,\n",
       "       2, 0, 0, 0, 0, 2, 1, 4, 1, 4, 2, 2, 0, 3, 1, 1, 3, 0, 1, 1, 0, 0,\n",
       "       0, 0, 0, 2, 2, 1, 0, 1, 0, 0, 3, 0, 4, 4, 2, 0, 2, 0, 0, 3, 2, 1,\n",
       "       0, 4, 2, 1, 1, 0, 0, 1, 3, 1, 0, 1, 4, 0, 0, 0, 0, 0, 4, 0, 4, 4,\n",
       "       2, 0, 2, 2, 1, 0, 1, 2, 2, 1, 2, 0, 4, 4, 1, 1, 4, 1, 4, 4, 2, 2,\n",
       "       0, 3, 0, 0, 4, 4, 0, 2, 1, 1, 4, 0, 0, 1, 2, 4, 1, 3, 3, 1, 0, 1,\n",
       "       1, 4, 1, 1, 0, 4, 1, 3, 4, 0, 0, 3, 0, 1, 2, 2, 1, 2, 3, 1, 3, 2,\n",
       "       2, 0, 3, 4, 2, 2, 1, 2, 1, 4, 1, 2, 2, 1, 4, 0, 1, 0, 0, 0, 1, 0,\n",
       "       2, 4, 3, 2, 2, 0, 0, 2, 4, 2, 3, 1, 1, 0, 0, 0, 4, 2, 2, 4, 1, 2,\n",
       "       3, 2, 4, 1, 0, 4, 2, 0, 1, 0, 4, 0, 3, 3], dtype=int64)"
      ]
     },
     "execution_count": 124,
     "metadata": {},
     "output_type": "execute_result"
    }
   ],
   "source": [
    "y_hier_clus"
   ]
  },
  {
   "cell_type": "code",
   "execution_count": 128,
   "id": "354e882f",
   "metadata": {},
   "outputs": [
    {
     "data": {
      "image/png": "[encoded data removed]",
      "text/plain": [
       "<Figure size 1000x700 with 1 Axes>"
      ]
     },
     "metadata": {},
     "output_type": "display_data"
    }
   ],
   "source": [
    "plt.figure(figsize =(10,7))\n",
    "plt.scatter(dots[y_hier_clus ==0,0],dots[y_hier_clus ==0,1], s= 150, c= \"blue\")\n",
    "plt.scatter(dots[y_hier_clus ==1,0],dots[y_hier_clus ==1,1], s= 150, c= \"yellow\")\n",
    "plt.scatter(dots[y_hier_clus ==2,0],dots[y_hier_clus ==2,1], s= 150, c= \"red\")\n",
    "plt.scatter(dots[y_hier_clus ==3,0],dots[y_hier_clus ==3,1], s= 150, c= \"green\")\n",
    "plt.scatter(dots[y_hier_clus ==4,0],dots[y_hier_clus ==4,1], s= 150, c= \"violet\")\n",
    "\n",
    "plt.show()"
   ]
  },
  {
   "cell_type": "code",
   "execution_count": null,
   "id": "ca05ea93",
   "metadata": {},
   "outputs": [],
   "source": []
  }
 ],
 "metadata": {
  "kernelspec": {
   "display_name": "Python 3 (ipykernel)",
   "language": "python",
   "name": "python3"
  },
  "language_info": {
   "codemirror_mode": {
    "name": "ipython",
    "version": 3
   },
   "file_extension": ".py",
   "mimetype": "text/x-python",
   "name": "python",
   "nbconvert_exporter": "python",
   "pygments_lexer": "ipython3",
   "version": "3.11.5"
  }
 },
 "nbformat": 4,
 "nbformat_minor": 5
}
