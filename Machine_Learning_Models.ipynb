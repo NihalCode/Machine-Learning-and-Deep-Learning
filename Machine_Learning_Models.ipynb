{
 "cells": [
  {
   "cell_type": "code",
   "execution_count": 1,
   "id": "5be554c2",
   "metadata": {},
   "outputs": [
    {
     "name": "stdout",
     "output_type": "stream",
     "text": [
      "<bound method NDFrame.head of       User_ID Gender   Age  Occupation City_Category  \\\n",
      "0     1000001      F  15.0          10             A   \n",
      "1     1000002      M  69.0          16             C   \n",
      "2     1000003      M  34.0          15             A   \n",
      "3     1000004      M  46.0           7             B   \n",
      "4     1000005      M  27.0          20             A   \n",
      "...       ...    ...   ...         ...           ...   \n",
      "5903  1007081      F   NaN          17             B   \n",
      "5904  1007091      M  40.0           8             C   \n",
      "5905  1007092      M  45.0           8             C   \n",
      "5906  1007095      M  41.0           8             C   \n",
      "5907  1007099      F  47.0           8             C   \n",
      "\n",
      "     Stay_In_Current_City_Years  Marital_Status  \n",
      "0                             2               0  \n",
      "1                            4+               0  \n",
      "2                             3               0  \n",
      "3                             2               1  \n",
      "4                             1               1  \n",
      "...                         ...             ...  \n",
      "5903                         4+               0  \n",
      "5904                         4+               1  \n",
      "5905                         4+               1  \n",
      "5906                         4+               1  \n",
      "5907                         4+               1  \n",
      "\n",
      "[5908 rows x 7 columns]>\n"
     ]
    }
   ],
   "source": [
    "import numpy as np\n",
    "import pandas as pd\n",
    "data = pd.read_csv(\"Demographics.csv\")\n",
    "print(data.head)"
   ]
  },
  {
   "cell_type": "code",
   "execution_count": 2,
   "id": "5a2d9675",
   "metadata": {},
   "outputs": [
    {
     "name": "stdout",
     "output_type": "stream",
     "text": [
      "Index(['User_ID', 'Gender', 'Age', 'Occupation', 'City_Category',\n",
      "       'Stay_In_Current_City_Years', 'Marital_Status'],\n",
      "      dtype='object')\n"
     ]
    }
   ],
   "source": [
    "print(data.columns)"
   ]
  },
  {
   "cell_type": "code",
   "execution_count": 3,
   "id": "2facb1de",
   "metadata": {},
   "outputs": [],
   "source": [
    "data = pd.get_dummies(data, drop_first=True)\n",
    "data.fillna(data.mean(), inplace =True)"
   ]
  },
  {
   "cell_type": "code",
   "execution_count": 4,
   "id": "2fdd219d",
   "metadata": {},
   "outputs": [],
   "source": [
    "X= data.drop('Age', axis=1)\n",
    "Y = data['Marital_Status']"
   ]
  },
  {
   "cell_type": "code",
   "execution_count": 5,
   "id": "cbdd2b1c",
   "metadata": {},
   "outputs": [],
   "source": [
    "from sklearn.model_selection import train_test_split\n",
    "\n",
    "X_train, X_test, Y_train, Y_test = train_test_split(X,Y, test_size=0.25, random_state = 42)"
   ]
  },
  {
   "cell_type": "code",
   "execution_count": 6,
   "id": "e1bd7242",
   "metadata": {},
   "outputs": [
    {
     "name": "stdout",
     "output_type": "stream",
     "text": [
      "Mean Squared Error: 1.289321047209153e-29\n"
     ]
    }
   ],
   "source": [
    "from sklearn.linear_model import LinearRegression\n",
    "model = LinearRegression()\n",
    "model.fit(X_train, Y_train)\n",
    "\n",
    "Y_pred = model.predict(X_test)\n",
    "\n",
    "from sklearn.metrics import mean_squared_error\n",
    "mse = mean_squared_error(Y_test, Y_pred)\n",
    "print(f\"Mean Squared Error: {mse}\")"
   ]
  },
  {
   "cell_type": "code",
   "execution_count": 7,
   "id": "a28c72f4",
   "metadata": {},
   "outputs": [
    {
     "name": "stdout",
     "output_type": "stream",
     "text": [
      "Model Accuracy: 1.0\n"
     ]
    }
   ],
   "source": [
    "accuracy = model.score(X_test, Y_test)\n",
    "print(f\"Model Accuracy: {accuracy}\")"
   ]
  },
  {
   "cell_type": "code",
   "execution_count": 8,
   "id": "36d21475",
   "metadata": {},
   "outputs": [
    {
     "name": "stdout",
     "output_type": "stream",
     "text": [
      "R² Score: 1.0\n"
     ]
    }
   ],
   "source": [
    "from sklearn.metrics import r2_score\n",
    "r2 = r2_score(Y_test, Y_pred)\n",
    "print(f\"R² Score: {r2}\")"
   ]
  },
  {
   "cell_type": "code",
   "execution_count": 9,
   "id": "f988756e",
   "metadata": {},
   "outputs": [],
   "source": [
    "from sklearn.model_selection import cross_val_score\n",
    "accuracies = cross_val_score(estimator = model, X = X_train, y= Y_train, cv =10 )"
   ]
  },
  {
   "cell_type": "code",
   "execution_count": 10,
   "id": "d269b4c0",
   "metadata": {
    "scrolled": true
   },
   "outputs": [
    {
     "data": {
      "text/plain": [
       "array([1., 1., 1., 1., 1., 1., 1., 1., 1., 1.])"
      ]
     },
     "execution_count": 10,
     "metadata": {},
     "output_type": "execute_result"
    }
   ],
   "source": [
    "accuracies"
   ]
  },
  {
   "cell_type": "code",
   "execution_count": 11,
   "id": "2e4d0bc4",
   "metadata": {},
   "outputs": [],
   "source": [
    "from sklearn.model_selection import cross_val_score\n",
    "accuracies = cross_val_score(estimator = model, X = X_train, y= Y_train, cv =10, scoring=\"neg_mean_squared_error\" )"
   ]
  },
  {
   "cell_type": "code",
   "execution_count": 12,
   "id": "27840b7b",
   "metadata": {},
   "outputs": [
    {
     "data": {
      "text/plain": [
       "-3.070037642652348e-28"
      ]
     },
     "execution_count": 12,
     "metadata": {},
     "output_type": "execute_result"
    }
   ],
   "source": [
    "accuracies.mean()"
   ]
  },
  {
   "cell_type": "code",
   "execution_count": 13,
   "id": "80724c0d",
   "metadata": {},
   "outputs": [
    {
     "data": {
      "text/plain": [
       "3.070037642652348e-28"
      ]
     },
     "execution_count": 13,
     "metadata": {},
     "output_type": "execute_result"
    }
   ],
   "source": [
    "-accuracies.mean()"
   ]
  },
  {
   "cell_type": "code",
   "execution_count": 14,
   "id": "c663dd4b",
   "metadata": {},
   "outputs": [
    {
     "name": "stdout",
     "output_type": "stream",
     "text": [
      "Model Accuracy: 0.5730400451212634\n"
     ]
    }
   ],
   "source": [
    "from sklearn.linear_model import LogisticRegression\n",
    "from sklearn.model_selection import train_test_split\n",
    "from sklearn.metrics import accuracy_score\n",
    "\n",
    "X = X.dropna()  \n",
    "Y = Y[X.index]  \n",
    "\n",
    "X_train, X_test, Y_train, Y_test = train_test_split(X, Y, test_size=0.3, random_state=42)\n",
    "\n",
    "log_model =LogisticRegression() \n",
    "\n",
    "log_model.fit(X_train, Y_train)\n",
    "\n",
    "Y_pred = log_model.predict(X_test)\n",
    "\n",
    "accuracy = accuracy_score(Y_test, Y_pred)\n",
    "print(f\"Model Accuracy: {accuracy}\")\n"
   ]
  },
  {
   "cell_type": "markdown",
   "id": "ea6dc985",
   "metadata": {},
   "source": [
    "**K Nearest Neighbors**"
   ]
  },
  {
   "cell_type": "code",
   "execution_count": null,
   "id": "5b15a60f",
   "metadata": {},
   "outputs": [],
   "source": [
    "from sklearn.neighbors import KNeighborsClassifier\n",
    "knn = KNeighborsClassifier(n_neighbors=3)\n",
    "knn.fit(X_train, Y_train)\n",
    "\n",
    "knn.pred = knn.predict(X_test)\n",
    "accuracy = model.score(X_test, Y_test)\n",
    "print(f\"Model Accuracy: {accuracy}\")\n"
   ]
  },
  {
   "cell_type": "code",
   "execution_count": null,
   "id": "83e10cb7",
   "metadata": {},
   "outputs": [],
   "source": [
    "from sklearn.model_selection import GridSearchCV\n"
   ]
  },
  {
   "cell_type": "code",
   "execution_count": null,
   "id": "628a0c85",
   "metadata": {},
   "outputs": [],
   "source": [
    "knnmodel2 = KNeighborsClassifier()\n",
    "knn_param = {\"n_neighbors\": np.arange(1,50),\n",
    "            \"metric\" : [\"minkowski\", \"euclidean\", \"manhattan\"],\n",
    "            \"weights\" : [\"uniform\", \"distance\"]}"
   ]
  },
  {
   "cell_type": "code",
   "execution_count": null,
   "id": "937fde52",
   "metadata": {},
   "outputs": [],
   "source": [
    "knn_cv_model = GridSearchCV(estimator = knnmodel2, param_grid = knn_param, cv=10)"
   ]
  },
  {
   "cell_type": "code",
   "execution_count": null,
   "id": "3d8b7d2f",
   "metadata": {},
   "outputs": [],
   "source": [
    "knn_cv_model.fit(X_train, Y_train)"
   ]
  },
  {
   "cell_type": "code",
   "execution_count": null,
   "id": "c6c54f31",
   "metadata": {},
   "outputs": [],
   "source": [
    "knn_cv_model.best_params_"
   ]
  },
  {
   "cell_type": "code",
   "execution_count": null,
   "id": "ed7f1f2c",
   "metadata": {},
   "outputs": [],
   "source": [
    "knn_tuned = KNeighborsClassifier(n_neighbors=9)\n",
    "knn_tuned.fit(X_train, Y_train)"
   ]
  },
  {
   "cell_type": "code",
   "execution_count": null,
   "id": "ca7bd573",
   "metadata": {},
   "outputs": [],
   "source": [
    "y_pred2 = knn_tuned.predict(X_test)"
   ]
  },
  {
   "cell_type": "code",
   "execution_count": null,
   "id": "ea4e563c",
   "metadata": {},
   "outputs": [],
   "source": [
    "accuracy = knn_tuned.score(X_test,y_pred2)\n",
    "print(f\"Model Accuracy: {accuracy}\")\n"
   ]
  },
  {
   "cell_type": "markdown",
   "id": "fbc8ea48",
   "metadata": {},
   "source": [
    "**Decision Tree**"
   ]
  },
  {
   "cell_type": "code",
   "execution_count": null,
   "id": "db07be79",
   "metadata": {},
   "outputs": [],
   "source": [
    "import seaborn as sns\n",
    "import matplotlib.pyplot as plt\n"
   ]
  },
  {
   "cell_type": "code",
   "execution_count": null,
   "id": "e02d6f0e",
   "metadata": {},
   "outputs": [],
   "source": [
    "df = pd.read_csv(\"Iris.csv\")\n",
    "df.head()\n"
   ]
  },
  {
   "cell_type": "code",
   "execution_count": null,
   "id": "3fbd630e",
   "metadata": {},
   "outputs": [],
   "source": [
    "df.Species.value_counts()"
   ]
  },
  {
   "cell_type": "code",
   "execution_count": null,
   "id": "2d5ad0e7",
   "metadata": {},
   "outputs": [],
   "source": [
    "df.drop([\"Id\"], axis =1, inplace = True)"
   ]
  },
  {
   "cell_type": "code",
   "execution_count": null,
   "id": "cbbe9bf2",
   "metadata": {},
   "outputs": [],
   "source": [
    "df[\"Species\"] = df[\"Species\"].str.replace(\"Iris-\", \"\")\n",
    "df.head()"
   ]
  },
  {
   "cell_type": "code",
   "execution_count": null,
   "id": "e5a4f010",
   "metadata": {},
   "outputs": [],
   "source": [
    "df.info()"
   ]
  },
  {
   "cell_type": "code",
   "execution_count": null,
   "id": "356e0fbc",
   "metadata": {},
   "outputs": [],
   "source": [
    "sns.pairplot(df, hue=\"Species\", height = 2.75)"
   ]
  },
  {
   "cell_type": "code",
   "execution_count": null,
   "id": "3a5fe86e",
   "metadata": {},
   "outputs": [],
   "source": [
    "df[\"Species_Num\"] = df[\"Species\"]\n",
    "df.head()"
   ]
  },
  {
   "cell_type": "code",
   "execution_count": null,
   "id": "bb9188fb",
   "metadata": {},
   "outputs": [],
   "source": [
    "df[\"Species_Num\"] = df[\"Species_Num\"].str.replace(\"setosa\", \"1\")\n",
    "df[\"Species_Num\"] = df[\"Species_Num\"].str.replace(\"versicolor\", \"2\")\n",
    "df[\"Species_Num\"] = df[\"Species_Num\"].str.replace(\"virginica\", \"3\")\n",
    "df.head()"
   ]
  },
  {
   "cell_type": "code",
   "execution_count": null,
   "id": "f827a53b",
   "metadata": {},
   "outputs": [],
   "source": [
    "import pandas as pd\n",
    "df[\"Species_Num\" ]= pd.to_numeric(df[\"Species_Num\"], downcast =\"integer\")"
   ]
  },
  {
   "cell_type": "code",
   "execution_count": null,
   "id": "bf8fd95e",
   "metadata": {},
   "outputs": [],
   "source": [
    "numeric_df = df.select_dtypes(include=[np.number])\n",
    "plt.figure(figsize=(15,9))\n",
    "sns.heatmap(numeric_df.corr(), cmap = \"Spectral\", annot = True)\n"
   ]
  },
  {
   "cell_type": "code",
   "execution_count": null,
   "id": "e3a46c22",
   "metadata": {
    "scrolled": false
   },
   "outputs": [],
   "source": [
    "numeric_df.drop([\"PetalLengthCm\", \"Species_Num\"], axis=1, inplace=True)\n"
   ]
  },
  {
   "cell_type": "code",
   "execution_count": null,
   "id": "4ced8b40",
   "metadata": {},
   "outputs": [],
   "source": [
    "df.head()"
   ]
  },
  {
   "cell_type": "code",
   "execution_count": null,
   "id": "b9d2f3f4",
   "metadata": {},
   "outputs": [],
   "source": [
    "X = df.drop([\"Species\"], axis = 1)\n",
    "y = df.Species"
   ]
  },
  {
   "cell_type": "code",
   "execution_count": null,
   "id": "b2fdb4ce",
   "metadata": {},
   "outputs": [],
   "source": [
    "from sklearn.model_selection import train_test_split\n",
    "\n",
    "X_train, X_test, y_train, y_test = train_test_split(X,y, test_size=0.25, random_state = 42)"
   ]
  },
  {
   "cell_type": "code",
   "execution_count": null,
   "id": "215c3f19",
   "metadata": {},
   "outputs": [],
   "source": [
    "from sklearn.tree import DecisionTreeClassifier\n",
    "\n",
    "dt = DecisionTreeClassifier()\n",
    "dt.fit(X_train, y_train)\n",
    "\n",
    "# Predict and calculate accuracy\n",
    "dt_preds = dt.predict(X_test)\n",
    "\n"
   ]
  },
  {
   "cell_type": "code",
   "execution_count": null,
   "id": "b7259687",
   "metadata": {},
   "outputs": [],
   "source": [
    "from sklearn.metrics import accuracy_score, classification_report, confusion_matrix\n",
    "print(\"Accuracy Score:\", accuracy_score(y_test, dt_preds))"
   ]
  },
  {
   "cell_type": "code",
   "execution_count": null,
   "id": "fdf8d01d",
   "metadata": {},
   "outputs": [],
   "source": [
    "from sklearn.model_selection import cross_val_score\n",
    "cv_scores = cross_val_score(estimator =dt, X =X_train, y= y_train, cv =10)\n",
    "cv_scores.mean()"
   ]
  },
  {
   "cell_type": "code",
   "execution_count": null,
   "id": "e2c05f37",
   "metadata": {},
   "outputs": [],
   "source": [
    "cv_scores"
   ]
  },
  {
   "cell_type": "code",
   "execution_count": null,
   "id": "11989f2a",
   "metadata": {},
   "outputs": [],
   "source": [
    "print(confusion_matrix(y_test, dt_preds))"
   ]
  },
  {
   "cell_type": "code",
   "execution_count": null,
   "id": "7948bd99",
   "metadata": {
    "scrolled": false
   },
   "outputs": [],
   "source": [
    "cnf_matrix = confusion_matrix(y_test, dt_preds)\n",
    "sns.heatmap(cnf_matrix, annot=True, cmap =\"YlGnBu\")\n",
    "plt.ylabel(\"Actual Label\")\n",
    "plt.xlabel(\"Predicted Label\")"
   ]
  },
  {
   "cell_type": "code",
   "execution_count": null,
   "id": "db7724ab",
   "metadata": {},
   "outputs": [],
   "source": [
    "print(classification_report(y_test, dt_preds))"
   ]
  },
  {
   "cell_type": "code",
   "execution_count": null,
   "id": "17a1090b",
   "metadata": {},
   "outputs": [],
   "source": [
    "from sklearn import tree\n",
    "\n",
    "list(df.columns[:-1])"
   ]
  },
  {
   "cell_type": "code",
   "execution_count": null,
   "id": "8fb7cd3f",
   "metadata": {},
   "outputs": [],
   "source": [
    "features = list(df.columns[:-1])\n",
    "targets =[\"setosa\", \"versicolor\", \"virginica\"]\n",
    "print(features)\n",
    "print(targets)"
   ]
  },
  {
   "cell_type": "code",
   "execution_count": null,
   "id": "d91e0463",
   "metadata": {},
   "outputs": [],
   "source": [
    "\n",
    "plt.figure(figsize=(20,20))\n",
    "tree2 = tree.plot_tree(dt, filled = True, feature_names= features, class_names = targets)"
   ]
  },
  {
   "cell_type": "code",
   "execution_count": null,
   "id": "64407283",
   "metadata": {},
   "outputs": [],
   "source": [
    "from sklearn.model_selection import GridSearchCV\n",
    "\n",
    "dt2 = DecisionTreeClassifier()\n",
    "dt_params = {\"criterion\": [\"gini\", \"entropy\"],\n",
    "            \"max_depth\": np.arange(2,14,2),\n",
    "            \"max_features\": [\"auto\", \"sqrt\", \"log2\"]}"
   ]
  },
  {
   "cell_type": "code",
   "execution_count": null,
   "id": "379d3212",
   "metadata": {},
   "outputs": [],
   "source": [
    "dt_cv = GridSearchCV(estimator = dt2, param_grid = dt_params, cv =10)\n",
    "dt_cv.fit(X_train, y_train)"
   ]
  },
  {
   "cell_type": "code",
   "execution_count": null,
   "id": "66682519",
   "metadata": {},
   "outputs": [],
   "source": [
    "dt_cv.best_params_"
   ]
  },
  {
   "cell_type": "code",
   "execution_count": null,
   "id": "aa04a7a5",
   "metadata": {},
   "outputs": [],
   "source": [
    "dt_tuned = DecisionTreeClassifier(criterion = \"gini\", max_depth = 12, max_features =\"sqrt\")"
   ]
  },
  {
   "cell_type": "code",
   "execution_count": null,
   "id": "82e4c7c7",
   "metadata": {},
   "outputs": [],
   "source": [
    "dt_tuned.fit(X_train, y_train)\n"
   ]
  },
  {
   "cell_type": "code",
   "execution_count": null,
   "id": "2db85dba",
   "metadata": {},
   "outputs": [],
   "source": [
    "dt_preds2 = dt_tuned.predict(X_test)\n",
    "print(\"Accuracy Score:\", accuracy_score(y_test, dt_preds2))"
   ]
  },
  {
   "cell_type": "code",
   "execution_count": null,
   "id": "4b758954",
   "metadata": {},
   "outputs": [],
   "source": [
    "cv_scores = cross_val_score(estimator =dt_tuned, X =X_train, y= y_train, cv =17)\n",
    "cv_scores.mean()"
   ]
  },
  {
   "cell_type": "code",
   "execution_count": null,
   "id": "1aeb432e",
   "metadata": {},
   "outputs": [],
   "source": [
    "\n",
    "plt.figure(figsize=(20,20))\n",
    "tree2 = tree.plot_tree(dt_tuned, filled = True, feature_names= features, class_names = targets)"
   ]
  },
  {
   "cell_type": "markdown",
   "id": "7fb5729d",
   "metadata": {},
   "source": [
    "**Random Forest Classifier**"
   ]
  },
  {
   "cell_type": "code",
   "execution_count": null,
   "id": "2a95f141",
   "metadata": {},
   "outputs": [],
   "source": [
    "from sklearn.ensemble import RandomForestClassifier\n",
    "from sklearn.metrics import r2_score\n",
    "from sklearn.metrics import accuracy_score\n",
    "\n",
    "# Train a Random Forest classifier\n",
    "rf_model = RandomForestClassifier(n_estimators=100)\n",
    "rf_model.fit(X_train, y_train)\n",
    "\n",
    "# Predict and evaluate\n",
    "y_pred = rf_model.predict(X_test)\n",
    "rf_accuracy = accuracy_score(y_test, y_pred)\n",
    "print(f\"Random Forest Accuracy: {rf_accuracy}\")\n"
   ]
  },
  {
   "cell_type": "code",
   "execution_count": null,
   "id": "5db17708",
   "metadata": {},
   "outputs": [],
   "source": [
    "cv_scores = cross_val_score(estimator =rf_model, X =X_train, y= y_train, cv =17)\n",
    "cv_scores.mean()"
   ]
  },
  {
   "cell_type": "code",
   "execution_count": null,
   "id": "ead20722",
   "metadata": {},
   "outputs": [],
   "source": [
    "print(confusion_matrix(y_test, y_pred))"
   ]
  },
  {
   "cell_type": "code",
   "execution_count": null,
   "id": "c26b0ddd",
   "metadata": {},
   "outputs": [],
   "source": [
    "cnf_matrix = confusion_matrix(y_test, y_pred)\n",
    "sns.heatmap(cnf_matrix, annot=True, cmap =\"YlGnBu\")\n",
    "plt.ylabel(\"Actual Label\")\n",
    "plt.xlabel(\"Predicted Label\")"
   ]
  },
  {
   "cell_type": "code",
   "execution_count": null,
   "id": "454ace62",
   "metadata": {},
   "outputs": [],
   "source": [
    "print(classification_report(y_test, y_pred))"
   ]
  },
  {
   "cell_type": "code",
   "execution_count": null,
   "id": "74c9016c",
   "metadata": {},
   "outputs": [],
   "source": [
    "rf_model.estimators_"
   ]
  },
  {
   "cell_type": "code",
   "execution_count": null,
   "id": "30f400a4",
   "metadata": {},
   "outputs": [],
   "source": [
    "\n",
    "plt.figure(figsize=(20,20))\n",
    "tree_c = tree.plot_tree(rf_model.estimators_[0], filled = True, feature_names= features, class_names = targets)"
   ]
  },
  {
   "cell_type": "code",
   "execution_count": null,
   "id": "170f2dcc",
   "metadata": {},
   "outputs": [],
   "source": [
    "rf_model2 = RandomForestClassifier(n_estimators=100)\n",
    "rf_params = {\"n_estimators\": [50,100,300],\n",
    "            \"max_depth\": [3,5,7],\n",
    "            \"max_features\": [2,4,6,8],\n",
    "            \"min_samples_split\": [2,4,6]}\n"
   ]
  },
  {
   "cell_type": "code",
   "execution_count": null,
   "id": "9a2f529c",
   "metadata": {},
   "outputs": [],
   "source": [
    "rf_cv = GridSearchCV(rf_model2, rf_params, cv = 5, n_jobs =-1)\n",
    "rf_cv.fit(X_train, y_train)"
   ]
  },
  {
   "cell_type": "code",
   "execution_count": null,
   "id": "65f6a7dd",
   "metadata": {},
   "outputs": [],
   "source": [
    "rf_cv.best_params_"
   ]
  },
  {
   "cell_type": "code",
   "execution_count": null,
   "id": "ef43f635",
   "metadata": {},
   "outputs": [],
   "source": [
    "rf_tuned = RandomForestClassifier(max_depth = 3,\n",
    "                                 max_features = 2,\n",
    "                                 min_samples_split =2,\n",
    "                                 n_estimators = 50)\n",
    "\n",
    "rf_tuned.fit(X_train, y_train)"
   ]
  },
  {
   "cell_type": "code",
   "execution_count": null,
   "id": "c5581f00",
   "metadata": {},
   "outputs": [],
   "source": [
    "y_pred2 = rf_tuned.predict(X_test)"
   ]
  },
  {
   "cell_type": "code",
   "execution_count": null,
   "id": "175a3d06",
   "metadata": {},
   "outputs": [],
   "source": [
    "rf_tuned_accuracy = accuracy_score(y_test, y_pred2)\n",
    "print(f\"Random Forest Accuracy: {rf_tuned_accuracy}\")"
   ]
  },
  {
   "cell_type": "code",
   "execution_count": null,
   "id": "435a8c7e",
   "metadata": {},
   "outputs": [],
   "source": [
    "print(confusion_matrix(y_test, y_pred2))"
   ]
  },
  {
   "cell_type": "code",
   "execution_count": null,
   "id": "24b4d56d",
   "metadata": {},
   "outputs": [],
   "source": [
    "cnf_matrix = confusion_matrix(y_test, y_pred2)\n",
    "sns.heatmap(cnf_matrix, annot=True, cmap =\"YlGnBu\")\n",
    "plt.ylabel(\"Actual Label\")\n",
    "plt.xlabel(\"Predicted Label\")"
   ]
  },
  {
   "cell_type": "code",
   "execution_count": null,
   "id": "b50cfe10",
   "metadata": {},
   "outputs": [],
   "source": [
    "print(classification_report(y_test, y_pred))"
   ]
  },
  {
   "cell_type": "code",
   "execution_count": null,
   "id": "73e08788",
   "metadata": {},
   "outputs": [],
   "source": [
    "rf_tuned.feature_importances_"
   ]
  },
  {
   "cell_type": "code",
   "execution_count": null,
   "id": "91a992b2",
   "metadata": {},
   "outputs": [],
   "source": [
    "X_train.columns"
   ]
  },
  {
   "cell_type": "code",
   "execution_count": null,
   "id": "e292cfa3",
   "metadata": {},
   "outputs": [],
   "source": [
    "best_features = pd.Series(rf_tuned.feature_importances_,\n",
    "                        index = X_train.columns).sort_values(ascending =False)"
   ]
  },
  {
   "cell_type": "code",
   "execution_count": null,
   "id": "91bb1dee",
   "metadata": {},
   "outputs": [],
   "source": [
    "best_features"
   ]
  },
  {
   "cell_type": "code",
   "execution_count": null,
   "id": "e1459f87",
   "metadata": {},
   "outputs": [],
   "source": [
    "sns.barplot(x= best_features, y = best_features.index)\n",
    "plt.title(\"Feature Importance\")\n",
    "plt.show()"
   ]
  },
  {
   "cell_type": "markdown",
   "id": "5693edda",
   "metadata": {},
   "source": [
    "**Support Vector Machine (SVM)**"
   ]
  },
  {
   "cell_type": "code",
   "execution_count": null,
   "id": "c9aa88f7",
   "metadata": {},
   "outputs": [],
   "source": [
    "df = pd.read_csv(\"winequality-red.csv\")\n",
    "df.head()"
   ]
  },
  {
   "cell_type": "code",
   "execution_count": null,
   "id": "19237a43",
   "metadata": {},
   "outputs": [],
   "source": [
    "df.info()"
   ]
  },
  {
   "cell_type": "code",
   "execution_count": null,
   "id": "41a38e76",
   "metadata": {},
   "outputs": [],
   "source": [
    "df.quality.value_counts()"
   ]
  },
  {
   "cell_type": "code",
   "execution_count": null,
   "id": "709f876d",
   "metadata": {},
   "outputs": [],
   "source": [
    "df.columns[:-1]"
   ]
  },
  {
   "cell_type": "code",
   "execution_count": null,
   "id": "17f759a7",
   "metadata": {},
   "outputs": [],
   "source": [
    "title_font ={\"family\": \"arial\", \"color\": \"darkred\", \"weight\": \"bold\", \"size\": 15}\n",
    "axis_font ={\"family\": \"arial\", \"color\": \"darkblue\", \"weight\": \"bold\", \"size\": 13}\n",
    "\n",
    "for i in df.columns[:-1]:\n",
    "    plt.figure(figsize =(10,6))\n",
    "    sns.barplot(x='quality', y=i, data = df)\n",
    "    \n",
    "    plt.title(\"quality -\" +i, fontdict = title_font)\n",
    "    plt.xlabel(\"quality\", fontdict = axis_font)\n",
    "    plt.ylabel(i, fontdict = axis_font)\n",
    "    \n",
    "    plt.tight_layout()\n",
    "    plt.show()"
   ]
  },
  {
   "cell_type": "code",
   "execution_count": null,
   "id": "a95fefc5",
   "metadata": {},
   "outputs": [],
   "source": [
    "plt.figure(figsize = (15,9))\n",
    "sns.heatmap(df.corr(), cmap =\"Spectral\", annot = True)"
   ]
  },
  {
   "cell_type": "code",
   "execution_count": null,
   "id": "e4bc85ce",
   "metadata": {},
   "outputs": [],
   "source": [
    "df.drop([\"residual sugar\", \"free sulfur dioxide\", \"pH\"], axis =1, inplace =True)"
   ]
  },
  {
   "cell_type": "code",
   "execution_count": null,
   "id": "49e8f648",
   "metadata": {},
   "outputs": [],
   "source": [
    "df.head()"
   ]
  },
  {
   "cell_type": "code",
   "execution_count": null,
   "id": "4e35c789",
   "metadata": {},
   "outputs": [],
   "source": [
    "bins = (2, 6.5, 8)\n",
    "group_names = [\"bad\", \"good\"]\n",
    "df[\"quality\"] = pd.cut(df[\"quality\"], bins = bins, labels = group_names)"
   ]
  },
  {
   "cell_type": "code",
   "execution_count": null,
   "id": "298eae19",
   "metadata": {},
   "outputs": [],
   "source": [
    "df.head()"
   ]
  },
  {
   "cell_type": "code",
   "execution_count": null,
   "id": "72e4a0f0",
   "metadata": {
    "scrolled": false
   },
   "outputs": [],
   "source": [
    "sns.countplot(x=df[\"quality\"])"
   ]
  },
  {
   "cell_type": "code",
   "execution_count": null,
   "id": "528a7368",
   "metadata": {},
   "outputs": [],
   "source": [
    "from sklearn.preprocessing import LabelEncoder\n",
    "\n",
    "new_quality = LabelEncoder()\n",
    "\n",
    "df[\"quality\"] = new_quality.fit_transform(df[\"quality\"])\n",
    "df.head()"
   ]
  },
  {
   "cell_type": "code",
   "execution_count": null,
   "id": "35e0b9e0",
   "metadata": {},
   "outputs": [],
   "source": [
    "df[\"quality\"].value_counts()"
   ]
  },
  {
   "cell_type": "code",
   "execution_count": null,
   "id": "375cd867",
   "metadata": {},
   "outputs": [],
   "source": [
    "X = df.drop([\"quality\"], axis =1)\n",
    "y = df[\"quality\"]"
   ]
  },
  {
   "cell_type": "code",
   "execution_count": null,
   "id": "9683337d",
   "metadata": {},
   "outputs": [],
   "source": [
    "X_train, X_test, y_train, y_test = train_test_split(X,y, test_size=0.2, random_state = 42)"
   ]
  },
  {
   "cell_type": "code",
   "execution_count": null,
   "id": "d92770b2",
   "metadata": {},
   "outputs": [],
   "source": [
    "from sklearn.preprocessing import StandardScaler\n",
    "scaler = StandardScaler()\n",
    "\n",
    "X_train = scaler.fit_transform(X_train)\n",
    "X_test = scaler.transform(X_test)"
   ]
  },
  {
   "cell_type": "code",
   "execution_count": null,
   "id": "a4c28ac5",
   "metadata": {},
   "outputs": [],
   "source": [
    "from sklearn.svm import SVC\n",
    "\n",
    "svc_model = SVC()\n",
    "svc_model.fit(X_train, y_train)\n",
    "\n",
    "y_pred3 =svc_model.predict(X_test)"
   ]
  },
  {
   "cell_type": "code",
   "execution_count": null,
   "id": "fbccb6bb",
   "metadata": {},
   "outputs": [],
   "source": [
    "cv_scores = cross_val_score(estimator =svc_model, X =X_train, y= y_train, cv =17)\n",
    "cv_scores.mean()"
   ]
  },
  {
   "cell_type": "code",
   "execution_count": null,
   "id": "aa1099f8",
   "metadata": {},
   "outputs": [],
   "source": [
    "cnf_matrix = confusion_matrix(y_test, y_pred3)\n",
    "sns.heatmap(cnf_matrix, annot =True, cmap = \"YlGnBu\", fmt =\"d\")\n",
    "\n",
    "plt.ylabel(\"Actual Label\")\n",
    "plt.xlabel(\"Predicted Label\")"
   ]
  },
  {
   "cell_type": "code",
   "execution_count": null,
   "id": "c2f8b8e2",
   "metadata": {},
   "outputs": [],
   "source": [
    "print(classification_report(y_test, y_pred3))"
   ]
  },
  {
   "cell_type": "code",
   "execution_count": null,
   "id": "e02b3eab",
   "metadata": {},
   "outputs": [],
   "source": [
    "svc2 = SVC()\n",
    "\n",
    "param_grid ={'C': [0.1, 1, 10],\n",
    "            'gamma': [1,0.1, 0.01],\n",
    "            'kernel': ['poly', 'rbf']}"
   ]
  },
  {
   "cell_type": "code",
   "execution_count": null,
   "id": "ffafbecb",
   "metadata": {},
   "outputs": [],
   "source": [
    "svc_cv = GridSearchCV(estimator =svc2, param_grid= param_grid, cv = 10)"
   ]
  },
  {
   "cell_type": "code",
   "execution_count": null,
   "id": "a8b01943",
   "metadata": {},
   "outputs": [],
   "source": [
    "svc_cv.fit(X_train, y_train)"
   ]
  },
  {
   "cell_type": "code",
   "execution_count": null,
   "id": "bf350e71",
   "metadata": {},
   "outputs": [],
   "source": [
    "svc_cv.best_params_"
   ]
  },
  {
   "cell_type": "code",
   "execution_count": null,
   "id": "fc3a2cad",
   "metadata": {},
   "outputs": [],
   "source": [
    "svc_tuned = SVC(C= 1, gamma = 1, kernel =\"rbf\")"
   ]
  },
  {
   "cell_type": "code",
   "execution_count": null,
   "id": "86248373",
   "metadata": {},
   "outputs": [],
   "source": [
    "svc_tuned.fit(X_train, y_train)"
   ]
  },
  {
   "cell_type": "code",
   "execution_count": null,
   "id": "20acf75f",
   "metadata": {},
   "outputs": [],
   "source": [
    "y_pred4 = svc_tuned.predict(X_test)"
   ]
  },
  {
   "cell_type": "code",
   "execution_count": null,
   "id": "51cd05bf",
   "metadata": {},
   "outputs": [],
   "source": [
    "cv_scores = cross_val_score(estimator =svc_tuned, X =X_train, y= y_train, cv =17)\n",
    "cv_scores.mean()"
   ]
  },
  {
   "cell_type": "code",
   "execution_count": null,
   "id": "f725d4b7",
   "metadata": {},
   "outputs": [],
   "source": [
    "cnf_matrix = confusion_matrix(y_test, y_pred4)\n",
    "sns.heatmap(cnf_matrix, annot =True, cmap = \"YlGnBu\", fmt =\"d\")\n",
    "\n",
    "plt.ylabel(\"Actual Label\")\n",
    "plt.xlabel(\"Predicted Label\")"
   ]
  },
  {
   "cell_type": "code",
   "execution_count": null,
   "id": "71874bdb",
   "metadata": {},
   "outputs": [],
   "source": [
    "print(classification_report(y_test, y_pred4))"
   ]
  },
  {
   "cell_type": "code",
   "execution_count": null,
   "id": "e99965a3",
   "metadata": {},
   "outputs": [],
   "source": [
    "from sklearn.naive_bayes import GaussianNB\n",
    "from sklearn.metrics import accuracy_score\n",
    "from sklearn.model_selection import train_test_split\n",
    "\n",
    "X_train, X_test, Y_train, Y_test = train_test_split(X, y, test_size=0.2, random_state=42)\n",
    "nb_model = GaussianNB()\n",
    "nb_model.fit(X_train, Y_train)\n",
    "\n",
    "# Predict and calculate accuracy\n",
    "nb_preds = nb_model.predict(X_test)\n",
    "nb_accuracy = accuracy_score(Y_test, nb_preds)\n",
    "print(f\"Naive Bayes Accuracy: {nb_accuracy}\")"
   ]
  },
  {
   "cell_type": "code",
   "execution_count": null,
   "id": "8de8381a",
   "metadata": {},
   "outputs": [],
   "source": [
    "from sklearn.svm import SVR\n",
    "from sklearn.metrics import r2_score\n",
    "from sklearn.model_selection import train_test_split\n",
    "\n",
    "X_train, X_test, Y_train, Y_test = train_test_split(X, y, test_size=0.2, random_state=42)\n",
    "svr_model = SVR()\n",
    "svr_model.fit(X_train, Y_train)\n",
    "\n",
    "# Predict and calculate R² score\n",
    "svr_preds = svr_model.predict(X_test)\n",
    "svr_r2 = r2_score(Y_test, svr_preds)\n",
    "print(f\"SVR R² Score: {svr_r2}\")\n"
   ]
  },
  {
   "cell_type": "code",
   "execution_count": null,
   "id": "c6d59b49",
   "metadata": {
    "scrolled": true
   },
   "outputs": [],
   "source": [
    "!pip install xgboost\n",
    "import xgboost as xgb\n",
    "from sklearn.metrics import r2_score\n",
    "\n",
    "xgb_reg_model = xgb.XGBRegressor()\n",
    "xgb_reg_model.fit(X_train, Y_train)\n",
    "\n",
    "# Predict and calculate R² score\n",
    "xgb_reg_preds = xgb_reg_model.predict(X_test)\n",
    "xgb_reg_r2 = r2_score(Y_test, xgb_reg_preds)\n",
    "print(f\"XGBoost Regressor R² Score: {xgb_reg_r2}\")"
   ]
  },
  {
   "cell_type": "code",
   "execution_count": null,
   "id": "fcae21d5",
   "metadata": {},
   "outputs": [],
   "source": [
    "from sklearn.cluster import KMeans\n",
    "from sklearn.metrics import silhouette_score\n",
    "\n",
    "# Initialize and fit the KMeans model\n",
    "kmeans_model = KMeans(n_clusters=3, n_init =10, random_state=42)\n",
    "kmeans_model.fit(X_train)\n",
    "\n",
    "# Predict the clusters and calculate silhouette score\n",
    "kmeans_preds = kmeans_model.predict(X_test)\n",
    "sil_score = silhouette_score(X_test, kmeans_preds)\n",
    "print(f\"KMeans Silhouette Score: {sil_score}\")"
   ]
  },
  {
   "cell_type": "code",
   "execution_count": null,
   "id": "77df44f0",
   "metadata": {},
   "outputs": [],
   "source": []
  }
 ],
 "metadata": {
  "kernelspec": {
   "display_name": "Python 3 (ipykernel)",
   "language": "python",
   "name": "python3"
  },
  "language_info": {
   "codemirror_mode": {
    "name": "ipython",
    "version": 3
   },
   "file_extension": ".py",
   "mimetype": "text/x-python",
   "name": "python",
   "nbconvert_exporter": "python",
   "pygments_lexer": "ipython3",
   "version": "3.11.5"
  }
 },
 "nbformat": 4,
 "nbformat_minor": 5
}
